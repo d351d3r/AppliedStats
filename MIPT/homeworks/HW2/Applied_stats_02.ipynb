{
  "nbformat": 4,
  "nbformat_minor": 0,
  "metadata": {
    "colab": {
      "name": "Applied_stats_02.ipynb",
      "provenance": []
    },
    "kernelspec": {
      "name": "python3",
      "display_name": "Python 3"
    }
  },
  "cells": [
    {
      "cell_type": "code",
      "metadata": {
        "colab": {
          "base_uri": "https://localhost:8080/"
        },
        "id": "76JRLk9GT0Sb",
        "outputId": "b63b70ee-9dc4-4814-f58b-74077b40ec5b"
      },
      "source": [
        "# !mkdir data\n",
        "!wget https://raw.githubusercontent.com/Intelligent-Systems-Phystech/psad/master/hometask/sem2/zhestov.ea%40phystech.edu.csv -O ./data/zhestov.ea@phystech.edu.csv"
      ],
      "execution_count": 1,
      "outputs": [
        {
          "output_type": "stream",
          "text": [
            "--2021-03-01 14:35:26--  https://raw.githubusercontent.com/Intelligent-Systems-Phystech/psad/master/hometask/sem2/zhestov.ea%40phystech.edu.csv\n",
            "Resolving raw.githubusercontent.com (raw.githubusercontent.com)... 185.199.108.133, 185.199.111.133, 185.199.109.133, ...\n",
            "Connecting to raw.githubusercontent.com (raw.githubusercontent.com)|185.199.108.133|:443... connected.\n",
            "HTTP request sent, awaiting response... 200 OK\n",
            "Length: 2518 (2.5K) [text/plain]\n",
            "Saving to: ‘./data/zhestov.ea@phystech.edu.csv’\n",
            "\n",
            "./data/zhestov.ea@p 100%[===================>]   2.46K  --.-KB/s    in 0s      \n",
            "\n",
            "2021-03-01 14:35:27 (46.5 MB/s) - ‘./data/zhestov.ea@phystech.edu.csv’ saved [2518/2518]\n",
            "\n"
          ],
          "name": "stdout"
        }
      ]
    },
    {
      "cell_type": "code",
      "metadata": {
        "id": "vQoebOCBUENO"
      },
      "source": [
        "import pandas as pd\n",
        "import numpy as np\n",
        "from scipy import stats as st\n",
        "\n",
        "\n",
        "series = pd.read_csv('data/zhestov.ea@phystech.edu.csv', header=None)\n",
        "series = series[0]"
      ],
      "execution_count": 8,
      "outputs": []
    },
    {
      "cell_type": "code",
      "metadata": {
        "colab": {
          "base_uri": "https://localhost:8080/"
        },
        "id": "0CBHU0tLUOdL",
        "outputId": "5dc43bc1-b001-4f5d-dbbf-9a0df026e985"
      },
      "source": [
        "series.head()"
      ],
      "execution_count": 9,
      "outputs": [
        {
          "output_type": "execute_result",
          "data": {
            "text/plain": [
              "0    0.727367\n",
              "1    1.797530\n",
              "2    1.187316\n",
              "3    0.557649\n",
              "4    2.685771\n",
              "Name: 0, dtype: float64"
            ]
          },
          "metadata": {
            "tags": []
          },
          "execution_count": 9
        }
      ]
    },
    {
      "cell_type": "code",
      "metadata": {
        "id": "yfVN09f0Vv-5"
      },
      "source": [
        "def round2(num: float) -> float:\n",
        "    return round(num, 2)"
      ],
      "execution_count": 10,
      "outputs": []
    },
    {
      "cell_type": "code",
      "metadata": {
        "colab": {
          "base_uri": "https://localhost:8080/"
        },
        "id": "Vqaadn94Ub5z",
        "outputId": "21f6a333-c353-4b20-cba3-e9ac3822b610"
      },
      "source": [
        "round2(series.mean())"
      ],
      "execution_count": 11,
      "outputs": [
        {
          "output_type": "execute_result",
          "data": {
            "text/plain": [
              "0.9"
            ]
          },
          "metadata": {
            "tags": []
          },
          "execution_count": 11
        }
      ]
    },
    {
      "cell_type": "code",
      "metadata": {
        "colab": {
          "base_uri": "https://localhost:8080/"
        },
        "id": "LpjxjWzxUtoO",
        "outputId": "6d947bb1-ba5c-4890-951a-2cb746487549"
      },
      "source": [
        "round2(series.std(ddof=0))"
      ],
      "execution_count": 12,
      "outputs": [
        {
          "output_type": "execute_result",
          "data": {
            "text/plain": [
              "0.94"
            ]
          },
          "metadata": {
            "tags": []
          },
          "execution_count": 12
        }
      ]
    },
    {
      "cell_type": "code",
      "metadata": {
        "colab": {
          "base_uri": "https://localhost:8080/",
          "height": 265
        },
        "id": "BSD49BSQXnbr",
        "outputId": "72d4403e-e1c1-4f1e-8e6c-7d7757537932"
      },
      "source": [
        "from matplotlib import pyplot as plt\n",
        "\n",
        "plt.hist(series.values, bins=12)\n",
        "plt.show()"
      ],
      "execution_count": 13,
      "outputs": [
        {
          "output_type": "display_data",
          "data": {
            "image/png": "[encoded data removed]",
            "text/plain": [
              "<Figure size 432x288 with 1 Axes>"
            ]
          },
          "metadata": {
            "tags": [],
            "needs_background": "light"
          }
        }
      ]
    },
    {
      "cell_type": "code",
      "metadata": {
        "colab": {
          "base_uri": "https://localhost:8080/"
        },
        "id": "9sZtIsNvWr-T",
        "outputId": "61f99296-ed7d-4e3c-8c2a-4a7f5c6e8e51"
      },
      "source": [
        "st.jarque_bera(series)"
      ],
      "execution_count": 14,
      "outputs": [
        {
          "output_type": "execute_result",
          "data": {
            "text/plain": [
              "(1.3050852303275453, 0.5207201013082896)"
            ]
          },
          "metadata": {
            "tags": []
          },
          "execution_count": 14
        }
      ]
    },
    {
      "cell_type": "code",
      "metadata": {
        "colab": {
          "base_uri": "https://localhost:8080/"
        },
        "id": "dWEm1CyBXQtB",
        "outputId": "9f84dda4-748e-4adb-c3c3-dc47b43b34c2"
      },
      "source": [
        "st.shapiro(series)"
      ],
      "execution_count": 15,
      "outputs": [
        {
          "output_type": "execute_result",
          "data": {
            "text/plain": [
              "(0.9884920716285706, 0.5451670289039612)"
            ]
          },
          "metadata": {
            "tags": []
          },
          "execution_count": 15
        }
      ]
    },
    {
      "cell_type": "code",
      "metadata": {
        "colab": {
          "base_uri": "https://localhost:8080/"
        },
        "id": "MyDlHTJgYx5I",
        "outputId": "0e97bfe1-9c69-413f-b84b-dadaf14271c9"
      },
      "source": [
        "binarized_series = (series >= 0).astype(int)\n",
        "ones_count = binarized_series.sum()\n",
        "ones_count"
      ],
      "execution_count": 16,
      "outputs": [
        {
          "output_type": "execute_result",
          "data": {
            "text/plain": [
              "82"
            ]
          },
          "metadata": {
            "tags": []
          },
          "execution_count": 16
        }
      ]
    },
    {
      "cell_type": "code",
      "metadata": {
        "colab": {
          "base_uri": "https://localhost:8080/"
        },
        "id": "Tu319QgVZapr",
        "outputId": "c876b08a-d58f-458c-b3ea-e5018d329a5d"
      },
      "source": [
        "round2(st.binom_test((ones_count, len(series)), p=0.5, alternative='two-sided'))"
      ],
      "execution_count": 17,
      "outputs": [
        {
          "output_type": "execute_result",
          "data": {
            "text/plain": [
              "0.21"
            ]
          },
          "metadata": {
            "tags": []
          },
          "execution_count": 17
        }
      ]
    },
    {
      "cell_type": "code",
      "metadata": {
        "colab": {
          "base_uri": "https://localhost:8080/",
          "height": 283
        },
        "id": "kJQ7BNV2aeiu",
        "outputId": "9c2d5102-01db-4bf9-a166-bb7485a42d7a"
      },
      "source": [
        "plt.plot(binarized_series)"
      ],
      "execution_count": 18,
      "outputs": [
        {
          "output_type": "execute_result",
          "data": {
            "text/plain": [
              "[<matplotlib.lines.Line2D at 0x7fc8234c3dd0>]"
            ]
          },
          "metadata": {
            "tags": []
          },
          "execution_count": 18
        },
        {
          "output_type": "display_data",
          "data": {
            "image/png": "[encoded data removed]",
            "text/plain": [
              "<Figure size 432x288 with 1 Axes>"
            ]
          },
          "metadata": {
            "tags": [],
            "needs_background": "light"
          }
        }
      ]
    },
    {
      "cell_type": "code",
      "metadata": {
        "id": "5Ks3LJ-XnqOk",
        "colab": {
          "base_uri": "https://localhost:8080/"
        },
        "outputId": "79676d30-8922-45ef-d781-d2498b726ebe"
      },
      "source": [
        "L_0 = st.bernoulli.pmf(k=binarized_series, p=0.5)\n",
        "L_MLE = st.bernoulli.pmf(k=binarized_series, p=(sum(binarized_series) / len(binarized_series)))\n",
        "LR = 2 * np.log(np.prod(L_MLE / L_0))\n",
        "round2(LR)"
      ],
      "execution_count": 19,
      "outputs": [
        {
          "output_type": "execute_result",
          "data": {
            "text/plain": [
              "44.35"
            ]
          },
          "metadata": {
            "tags": []
          },
          "execution_count": 19
        }
      ]
    },
    {
      "cell_type": "code",
      "metadata": {
        "id": "CIlYZYRWDmWl"
      },
      "source": [
        ""
      ],
      "execution_count": 19,
      "outputs": []
    }
  ]
}