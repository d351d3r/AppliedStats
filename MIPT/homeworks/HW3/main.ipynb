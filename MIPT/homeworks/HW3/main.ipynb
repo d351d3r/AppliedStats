{
  "nbformat": 4,
  "nbformat_minor": 0,
  "metadata": {
    "colab": {
      "name": "Applied_stats_03.ipynb",
      "provenance": []
    },
    "kernelspec": {
      "name": "python3",
      "display_name": "Python 3"
    }
  },
  "cells": [
    {
      "cell_type": "code",
      "metadata": {
        "colab": {
          "base_uri": "https://localhost:8080/"
        },
        "id": "UCMDCZeZuj_q",
        "outputId": "e7225eac-87b2-428d-8960-441f3a8c949b"
      },
      "source": [
        "# !mkdir data\n",
        "!wget https://github.com/Intelligent-Systems-Phystech/psad/raw/master/hometask/sem3/zhestov.ea%40phystech.edu.csv -O data/zhestov.ea@phystech.edu.csv"
      ],
      "execution_count": 7,
      "outputs": [
        {
          "output_type": "stream",
          "text": [
            "--2021-03-01 14:54:23--  https://github.com/Intelligent-Systems-Phystech/psad/raw/master/hometask/sem3/zhestov.ea%40phystech.edu.csv\n",
            "Resolving github.com (github.com)... 140.82.114.3\n",
            "Connecting to github.com (github.com)|140.82.114.3|:443... connected.\n",
            "HTTP request sent, awaiting response... 302 Found\n",
            "Location: https://raw.githubusercontent.com/Intelligent-Systems-Phystech/psad/master/hometask/sem3/zhestov.ea%40phystech.edu.csv [following]\n",
            "--2021-03-01 14:54:23--  https://raw.githubusercontent.com/Intelligent-Systems-Phystech/psad/master/hometask/sem3/zhestov.ea%40phystech.edu.csv\n",
            "Resolving raw.githubusercontent.com (raw.githubusercontent.com)... 185.199.111.133, 185.199.108.133, 185.199.109.133, ...\n",
            "Connecting to raw.githubusercontent.com (raw.githubusercontent.com)|185.199.111.133|:443... connected.\n",
            "HTTP request sent, awaiting response... 200 OK\n",
            "Length: 306 [text/plain]\n",
            "Saving to: ‘data/zhestov.ea@phystech.edu.csv’\n",
            "\n",
            "\r          data/zhes   0%[                    ]       0  --.-KB/s               \rdata/zhestov.ea@phy 100%[===================>]     306  --.-KB/s    in 0s      \n",
            "\n",
            "2021-03-01 14:54:23 (20.7 MB/s) - ‘data/zhestov.ea@phystech.edu.csv’ saved [306/306]\n",
            "\n"
          ],
          "name": "stdout"
        }
      ]
    },
    {
      "cell_type": "code",
      "metadata": {
        "id": "zqbAuW4s6GFb",
        "colab": {
          "base_uri": "https://localhost:8080/"
        },
        "outputId": "1d8360aa-f74b-43e9-d91d-bf54ef31fbe1"
      },
      "source": [
        "!pip install cryptorandom permute arch"
      ],
      "execution_count": 8,
      "outputs": [
        {
          "output_type": "stream",
          "text": [
            "Requirement already satisfied: cryptorandom in /usr/local/lib/python3.7/dist-packages (0.2)\n",
            "Requirement already satisfied: permute in /usr/local/lib/python3.7/dist-packages (0.2rc1)\n",
            "Requirement already satisfied: arch in /usr/local/lib/python3.7/dist-packages (4.16.1)\n",
            "Requirement already satisfied: scipy in /usr/local/lib/python3.7/dist-packages (from cryptorandom) (1.4.1)\n",
            "Requirement already satisfied: numpy in /usr/local/lib/python3.7/dist-packages (from cryptorandom) (1.19.5)\n",
            "Requirement already satisfied: statsmodels>=0.10 in /usr/local/lib/python3.7/dist-packages (from arch) (0.10.2)\n",
            "Requirement already satisfied: property-cached>=1.6.4 in /usr/local/lib/python3.7/dist-packages (from arch) (1.6.4)\n",
            "Requirement already satisfied: pandas>=0.23 in /usr/local/lib/python3.7/dist-packages (from arch) (1.1.5)\n",
            "Requirement already satisfied: cython>=0.29.14 in /usr/local/lib/python3.7/dist-packages (from arch) (0.29.22)\n",
            "Requirement already satisfied: patsy>=0.4.0 in /usr/local/lib/python3.7/dist-packages (from statsmodels>=0.10->arch) (0.5.1)\n",
            "Requirement already satisfied: python-dateutil>=2.7.3 in /usr/local/lib/python3.7/dist-packages (from pandas>=0.23->arch) (2.8.1)\n",
            "Requirement already satisfied: pytz>=2017.2 in /usr/local/lib/python3.7/dist-packages (from pandas>=0.23->arch) (2018.9)\n",
            "Requirement already satisfied: six in /usr/local/lib/python3.7/dist-packages (from patsy>=0.4.0->statsmodels>=0.10->arch) (1.15.0)\n"
          ],
          "name": "stdout"
        }
      ]
    },
    {
      "cell_type": "code",
      "metadata": {
        "id": "6WwppLd3uoZU"
      },
      "source": [
        "import itertools\n",
        "\n",
        "import pandas as pd\n",
        "import numpy as np\n",
        "import seaborn as sns\n",
        "from scipy import stats as st\n",
        "from matplotlib import pyplot as plt\n",
        "from statsmodels.stats.descriptivestats import sign_test\n",
        "from permute.core import one_sample\n",
        "from arch.bootstrap import IIDBootstrap"
      ],
      "execution_count": 9,
      "outputs": []
    },
    {
      "cell_type": "code",
      "metadata": {
        "id": "EHcD3t86vEId"
      },
      "source": [
        "data = pd.read_csv('data/zhestov.ea@phystech.edu.csv', header=None)[0]"
      ],
      "execution_count": 10,
      "outputs": []
    },
    {
      "cell_type": "code",
      "metadata": {
        "colab": {
          "base_uri": "https://localhost:8080/",
          "height": 354
        },
        "id": "jQvlqM32vH4K",
        "outputId": "fcf45bcb-298e-47ba-a4cb-185c98f5e4d9"
      },
      "source": [
        "sns.distplot(data)"
      ],
      "execution_count": 11,
      "outputs": [
        {
          "output_type": "stream",
          "text": [
            "/usr/local/lib/python3.7/dist-packages/seaborn/distributions.py:2557: FutureWarning: `distplot` is a deprecated function and will be removed in a future version. Please adapt your code to use either `displot` (a figure-level function with similar flexibility) or `histplot` (an axes-level function for histograms).\n",
            "  warnings.warn(msg, FutureWarning)\n"
          ],
          "name": "stderr"
        },
        {
          "output_type": "execute_result",
          "data": {
            "text/plain": [
              "<matplotlib.axes._subplots.AxesSubplot at 0x7f7026a71250>"
            ]
          },
          "metadata": {
            "tags": []
          },
          "execution_count": 11
        },
        {
          "output_type": "display_data",
          "data": {
            "image/png": "[encoded data removed]",
            "text/plain": [
              "<Figure size 432x288 with 1 Axes>"
            ]
          },
          "metadata": {
            "tags": [],
            "needs_background": "light"
          }
        }
      ]
    },
    {
      "cell_type": "code",
      "metadata": {
        "colab": {
          "base_uri": "https://localhost:8080/"
        },
        "id": "3VMSZcVl9vHj",
        "outputId": "6eecdc5a-aeca-4d16-cb80-1739716a00f7"
      },
      "source": [
        "print('p-value = {:.2f}'.format(st.shapiro(data)[1]))"
      ],
      "execution_count": 12,
      "outputs": [
        {
          "output_type": "stream",
          "text": [
            "p-value = 0.01\n"
          ],
          "name": "stdout"
        }
      ]
    },
    {
      "cell_type": "markdown",
      "metadata": {
        "id": "IyJ9OA_kBVDE"
      },
      "source": [
        "Скорее всего это не нормальное распределение, что в целом и из графика заметно"
      ]
    },
    {
      "cell_type": "code",
      "metadata": {
        "colab": {
          "base_uri": "https://localhost:8080/"
        },
        "id": "2bwt8NmIwt9X",
        "outputId": "54ae7913-25ce-4bdc-ddbd-556d817145e0"
      },
      "source": [
        "w, p = st.wilcoxon(data)\n",
        "round(p, 2)"
      ],
      "execution_count": 13,
      "outputs": [
        {
          "output_type": "execute_result",
          "data": {
            "text/plain": [
              "0.58"
            ]
          },
          "metadata": {
            "tags": []
          },
          "execution_count": 13
        }
      ]
    },
    {
      "cell_type": "code",
      "metadata": {
        "colab": {
          "base_uri": "https://localhost:8080/"
        },
        "id": "ussfYRdDxZ6D",
        "outputId": "ebe4bd40-d425-4593-ee17-868632ed5304"
      },
      "source": [
        "s, p = sign_test(data)\n",
        "round(p, 2)"
      ],
      "execution_count": 14,
      "outputs": [
        {
          "output_type": "execute_result",
          "data": {
            "text/plain": [
              "1.0"
            ]
          },
          "metadata": {
            "tags": []
          },
          "execution_count": 14
        }
      ]
    },
    {
      "cell_type": "code",
      "metadata": {
        "colab": {
          "base_uri": "https://localhost:8080/"
        },
        "id": "Aj_jdWb683-Y",
        "outputId": "6b42e4b8-315a-4699-f9d6-9235592bb3f0"
      },
      "source": [
        "2 ** data.shape[0]"
      ],
      "execution_count": 15,
      "outputs": [
        {
          "output_type": "execute_result",
          "data": {
            "text/plain": [
              "4096"
            ]
          },
          "metadata": {
            "tags": []
          },
          "execution_count": 15
        }
      ]
    },
    {
      "cell_type": "code",
      "metadata": {
        "colab": {
          "base_uri": "https://localhost:8080/"
        },
        "id": "NY9w7rOU8hTt",
        "outputId": "94325c4d-fdc1-430a-8357-569b04dda73c"
      },
      "source": [
        "T = data - 0.5\n",
        "t = sum(T)\n",
        "count = 0\n",
        "good = 0\n",
        "for v in itertools.product([-1, 1], repeat = len(data)):\n",
        "    count +=1\n",
        "    stat = np.dot(T, v)\n",
        "    if stat<=t:\n",
        "        good+=1\n",
        "\n",
        "\n",
        "good"
      ],
      "execution_count": 16,
      "outputs": [
        {
          "output_type": "execute_result",
          "data": {
            "text/plain": [
              "759"
            ]
          },
          "metadata": {
            "tags": []
          },
          "execution_count": 16
        }
      ]
    },
    {
      "cell_type": "code",
      "metadata": {
        "colab": {
          "base_uri": "https://localhost:8080/"
        },
        "id": "E6jsPrIr_OmL",
        "outputId": "8a5b7692-eaae-4934-bc2f-c52544d29d16"
      },
      "source": [
        "bs = IIDBootstrap(data)\n",
        "list(map(lambda x: round(x[0], 2), bs.conf_int(np.mean, 1000, method='basic')))"
      ],
      "execution_count": 17,
      "outputs": [
        {
          "output_type": "execute_result",
          "data": {
            "text/plain": [
              "[-1.53, 1.22]"
            ]
          },
          "metadata": {
            "tags": []
          },
          "execution_count": 17
        }
      ]
    },
    {
      "cell_type": "code",
      "metadata": {
        "id": "dvEVfN2uAqw2"
      },
      "source": [
        ""
      ],
      "execution_count": null,
      "outputs": []
    }
  ]
}