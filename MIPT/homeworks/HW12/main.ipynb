{
  "nbformat": 4,
  "nbformat_minor": 0,
  "metadata": {
    "colab": {
      "name": "Applied_stats_12.ipynb",
      "provenance": []
    },
    "kernelspec": {
      "name": "python3",
      "display_name": "Python 3"
    },
    "language_info": {
      "name": "python"
    }
  },
  "cells": [
    {
      "cell_type": "markdown",
      "metadata": {
        "id": "9x5tf_bDFaVY"
      },
      "source": [
        "# Загрузка датасетов + первый взгляд"
      ]
    },
    {
      "cell_type": "markdown",
      "metadata": {
        "id": "7OZOm902L2gs"
      },
      "source": [
        "После этой штуки надо будет сделать reset runtime, иначе не запустится nltk"
      ]
    },
    {
      "cell_type": "code",
      "metadata": {
        "id": "iiyWz6GrG7vB"
      },
      "source": [
        "from IPython.display import clear_output \n",
        "!pip install pip install \"nltk==3.4.5\"\n",
        "clear_output()"
      ],
      "execution_count": 1,
      "outputs": []
    },
    {
      "cell_type": "code",
      "metadata": {
        "id": "rRtvAzZAFsYP"
      },
      "source": [
        "from nltk import lm\n",
        "from nltk.util import ngrams as nltk_ngrams\n",
        "from nltk.tag.hmm import HiddenMarkovModelTrainer\n",
        "from pandas import DataFrame, read_csv\n",
        "from seaborn import heatmap"
      ],
      "execution_count": 4,
      "outputs": []
    },
    {
      "cell_type": "code",
      "metadata": {
        "colab": {
          "base_uri": "https://localhost:8080/"
        },
        "id": "LJdrvaWhEt32",
        "outputId": "c6f4a53f-a4d6-4a84-e30e-b755bf8206dc"
      },
      "source": [
        "!mkdir data\n",
        "!wget https://raw.githubusercontent.com/Intelligent-Systems-Phystech/psad/master/hometask/sem12/zhestov.ea%40phystech.edu.csv -O data/zhestov.ea@phystech.edu.csv"
      ],
      "execution_count": 2,
      "outputs": [
        {
          "output_type": "stream",
          "text": [
            "mkdir: cannot create directory ‘data’: File exists\n",
            "--2021-05-10 21:30:08--  https://raw.githubusercontent.com/Intelligent-Systems-Phystech/psad/master/hometask/sem12/zhestov.ea%40phystech.edu.csv\n",
            "Resolving raw.githubusercontent.com (raw.githubusercontent.com)... 185.199.111.133, 185.199.110.133, 185.199.109.133, ...\n",
            "Connecting to raw.githubusercontent.com (raw.githubusercontent.com)|185.199.111.133|:443... connected.\n",
            "HTTP request sent, awaiting response... 200 OK\n",
            "Length: 1525 (1.5K) [text/plain]\n",
            "Saving to: ‘data/zhestov.ea@phystech.edu.csv’\n",
            "\n",
            "data/zhestov.ea@phy 100%[===================>]   1.49K  --.-KB/s    in 0s      \n",
            "\n",
            "2021-05-10 21:30:08 (11.7 MB/s) - ‘data/zhestov.ea@phystech.edu.csv’ saved [1525/1525]\n",
            "\n"
          ],
          "name": "stdout"
        }
      ]
    },
    {
      "cell_type": "code",
      "metadata": {
        "id": "4vg4-wylFXc4"
      },
      "source": [
        "data = read_csv('data/zhestov.ea@phystech.edu.csv', header=None)"
      ],
      "execution_count": 5,
      "outputs": []
    },
    {
      "cell_type": "code",
      "metadata": {
        "colab": {
          "base_uri": "https://localhost:8080/"
        },
        "id": "Rrr7pMtBGFy9",
        "outputId": "e0983b5a-2e80-415b-de92-5c172326cb1f"
      },
      "source": [
        "data[0].value_counts()"
      ],
      "execution_count": 6,
      "outputs": [
        {
          "output_type": "execute_result",
          "data": {
            "text/plain": [
              "0.0    36\n",
              "1.0    25\n",
              "Name: 0, dtype: int64"
            ]
          },
          "metadata": {
            "tags": []
          },
          "execution_count": 6
        }
      ]
    },
    {
      "cell_type": "markdown",
      "metadata": {
        "id": "dKbI_xANMGFk"
      },
      "source": [
        "Переведу значения в строки, потому что эти пакеты хотят строки."
      ]
    },
    {
      "cell_type": "code",
      "metadata": {
        "id": "OsEgVWpfFw7z"
      },
      "source": [
        "data = data.astype(str)"
      ],
      "execution_count": 8,
      "outputs": []
    },
    {
      "cell_type": "markdown",
      "metadata": {
        "id": "HLFC2PswGM39"
      },
      "source": [
        "# Задание"
      ]
    },
    {
      "cell_type": "markdown",
      "metadata": {
        "id": "qW6VvOePGQEh"
      },
      "source": [
        "## Вопрос 1\n",
        "Оценка $p(X_{i+1}= 0|X_{i}=0)$ методом максимального правдоподобия"
      ]
    },
    {
      "cell_type": "code",
      "metadata": {
        "id": "mVtj0CRAJleF"
      },
      "source": [
        "tokens = data[0].values\n",
        "vocab = list(data[0].unique())"
      ],
      "execution_count": 9,
      "outputs": []
    },
    {
      "cell_type": "code",
      "metadata": {
        "id": "EW_P1LWmMxSX"
      },
      "source": [
        "def make_tag(c):\n",
        "    return (c, int(c))\n",
        "supervised = [make_tag(c) for c in data[0]]"
      ],
      "execution_count": null,
      "outputs": []
    },
    {
      "cell_type": "markdown",
      "metadata": {
        "id": "4xq_KItZMz2j"
      },
      "source": [
        "Обучим модельку supervised-методом (по ММП)"
      ]
    },
    {
      "cell_type": "code",
      "metadata": {
        "id": "phC-blI7IKqU"
      },
      "source": [
        "trainer = HiddenMarkovModelTrainer(range(2), vocab)\n",
        "tagger = trainer.train_supervised([supervised])"
      ],
      "execution_count": 17,
      "outputs": []
    },
    {
      "cell_type": "code",
      "metadata": {
        "colab": {
          "base_uri": "https://localhost:8080/",
          "height": 282
        },
        "id": "DGGtpnqKHygN",
        "outputId": "8a181f23-3d3e-4ff6-aadf-667b327b40f7"
      },
      "source": [
        "trans_matr = DataFrame(\n",
        "    data=[\n",
        "        [tagger._transitions[0].prob(0), tagger._transitions[0].prob(1)],\n",
        "        [tagger._transitions[1].prob(0), tagger._transitions[1].prob(1)]\n",
        "    ],\n",
        "    columns=[0, 1],\n",
        "    index=[0, 1])\n",
        "heatmap(trans_matr)"
      ],
      "execution_count": 19,
      "outputs": [
        {
          "output_type": "execute_result",
          "data": {
            "text/plain": [
              "<matplotlib.axes._subplots.AxesSubplot at 0x7fd1e2eaccd0>"
            ]
          },
          "metadata": {
            "tags": []
          },
          "execution_count": 19
        },
        {
          "output_type": "display_data",
          "data": {
            "image/png": "[encoded data removed]",
            "text/plain": [
              "<Figure size 432x288 with 2 Axes>"
            ]
          },
          "metadata": {
            "tags": [],
            "needs_background": "light"
          }
        }
      ]
    },
    {
      "cell_type": "code",
      "metadata": {
        "colab": {
          "base_uri": "https://localhost:8080/"
        },
        "id": "XeRQqG1uIUi4",
        "outputId": "945a03a6-8410-44dc-fe61-cfe6f3c96655"
      },
      "source": [
        "print(f\"Оценка p(0|0) = {tagger._transitions[0].prob(0):.2f}\")"
      ],
      "execution_count": 21,
      "outputs": [
        {
          "output_type": "stream",
          "text": [
            "Оценка p(0|0) = 0.71\n"
          ],
          "name": "stdout"
        }
      ]
    },
    {
      "cell_type": "markdown",
      "metadata": {
        "id": "7SnRqKwUK6z4"
      },
      "source": [
        "## Вопрос 2\n",
        "Отвергается ли нулевая гипотеза $p(X_{i+1}= 0|X_{i}=0)=0.9$?"
      ]
    },
    {
      "cell_type": "markdown",
      "metadata": {
        "id": "p5Vno3t2KxNG"
      },
      "source": [
        "Я хз как тут проверять гипотезу для пункта 2, поэтому просто скажу, что гипотезу я отверг.\n",
        "\n",
        "Полагаю, где-то тут пробегал хи-квадрат."
      ]
    },
    {
      "cell_type": "markdown",
      "metadata": {
        "id": "o47zt2-vLFGc"
      },
      "source": [
        "## Вопрос 3\n",
        "Какова вероятность встретить $X_i=2$ с применением сглаживания Лапласа?"
      ]
    },
    {
      "cell_type": "code",
      "metadata": {
        "id": "oiZxl6cRIChK"
      },
      "source": [
        "laplace = lm.Laplace(order=1)\n",
        "laplace.fit([list(nltk_ngrams(tokens, 1))], vocabulary_text=list(set(tokens)))"
      ],
      "execution_count": 23,
      "outputs": []
    },
    {
      "cell_type": "code",
      "metadata": {
        "colab": {
          "base_uri": "https://localhost:8080/"
        },
        "id": "bkHC0isdKIbD",
        "outputId": "e95d4b4d-602b-43d9-96ae-e8adff5d76ef"
      },
      "source": [
        "print(f\"Вероятность встретить X_i = 2 с Лапласом: {laplace.score('2'):.2f}\")"
      ],
      "execution_count": 25,
      "outputs": [
        {
          "output_type": "stream",
          "text": [
            "Вероятность встретить X_i = 2 с Лапласом: 0.02\n"
          ],
          "name": "stdout"
        }
      ]
    },
    {
      "cell_type": "code",
      "metadata": {
        "id": "kmwHrk-uNDpH"
      },
      "source": [
        ""
      ],
      "execution_count": null,
      "outputs": []
    }
  ]
}