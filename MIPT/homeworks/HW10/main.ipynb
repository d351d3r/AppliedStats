{
  "nbformat": 4,
  "nbformat_minor": 0,
  "metadata": {
    "colab": {
      "name": "Applied_stats_10.ipynb",
      "provenance": [],
      "collapsed_sections": []
    },
    "kernelspec": {
      "name": "python3",
      "display_name": "Python 3"
    },
    "language_info": {
      "name": "python"
    }
  },
  "cells": [
    {
      "cell_type": "markdown",
      "metadata": {
        "id": "ObCe_OgZHSbL"
      },
      "source": [
        "# Загрузка датасетов + первый взгляд"
      ]
    },
    {
      "cell_type": "code",
      "metadata": {
        "colab": {
          "base_uri": "https://localhost:8080/"
        },
        "id": "xLEZfShM3qXI",
        "outputId": "e1b05a06-f118-4461-fe9f-3152684dee11"
      },
      "source": [
        "!mkdir data\n",
        "!wget https://raw.githubusercontent.com/Intelligent-Systems-Phystech/psad/master/hometask/sem10/zhestov.ea%40phystech.edu.csv -O data/zhestov.ea@phystech.edu.csv"
      ],
      "execution_count": 1,
      "outputs": [
        {
          "output_type": "stream",
          "text": [
            "--2021-04-19 20:29:28--  https://raw.githubusercontent.com/Intelligent-Systems-Phystech/psad/master/hometask/sem10/zhestov.ea%40phystech.edu.csv\n",
            "Resolving raw.githubusercontent.com (raw.githubusercontent.com)... 185.199.108.133, 185.199.109.133, 185.199.110.133, ...\n",
            "Connecting to raw.githubusercontent.com (raw.githubusercontent.com)|185.199.108.133|:443... connected.\n",
            "HTTP request sent, awaiting response... 200 OK\n",
            "Length: 125000 (122K) [text/plain]\n",
            "Saving to: ‘data/zhestov.ea@phystech.edu.csv’\n",
            "\n",
            "\r          data/zhes   0%[                    ]       0  --.-KB/s               \rdata/zhestov.ea@phy 100%[===================>] 122.07K  --.-KB/s    in 0.02s   \n",
            "\n",
            "2021-04-19 20:29:29 (4.95 MB/s) - ‘data/zhestov.ea@phystech.edu.csv’ saved [125000/125000]\n",
            "\n"
          ],
          "name": "stdout"
        }
      ]
    },
    {
      "cell_type": "code",
      "metadata": {
        "colab": {
          "base_uri": "https://localhost:8080/"
        },
        "id": "K4USWvA75CLd",
        "outputId": "192b645e-17ee-472b-e891-f8ceb263cd9a"
      },
      "source": [
        "!pip install sprt"
      ],
      "execution_count": 2,
      "outputs": [
        {
          "output_type": "stream",
          "text": [
            "Collecting sprt\n",
            "  Downloading https://files.pythonhosted.org/packages/42/4b/1f58d1966874f1361209456d7ce40086a5637fb8776696d3eeb134b8e5b4/sprt-0.0.1.tar.gz\n",
            "Building wheels for collected packages: sprt\n",
            "  Building wheel for sprt (setup.py) ... \u001b[?25l\u001b[?25hdone\n",
            "  Created wheel for sprt: filename=sprt-0.0.1-cp37-none-any.whl size=4037 sha256=64d7a5db6210ec34be1dedbecff8481a315acbe3a6d18486e62ae5699f60c42f\n",
            "  Stored in directory: /root/.cache/pip/wheels/3f/4c/ce/fb40d71e64e7d1aecd9f6a9e1b1b8136d8591d34f8dfee1269\n",
            "Successfully built sprt\n",
            "Installing collected packages: sprt\n",
            "Successfully installed sprt-0.0.1\n"
          ],
          "name": "stdout"
        }
      ]
    },
    {
      "cell_type": "code",
      "metadata": {
        "id": "FSNmpZah3y0X"
      },
      "source": [
        "from pandas import read_csv\n",
        "from sprt import SPRTBinomial\n",
        "from scipy.optimize import root_scalar\n",
        "from functools import partial\n",
        "from numpy import log\n",
        "from math import floor\n",
        "from IPython.display import clear_output"
      ],
      "execution_count": 3,
      "outputs": []
    },
    {
      "cell_type": "code",
      "metadata": {
        "colab": {
          "base_uri": "https://localhost:8080/",
          "height": 206
        },
        "id": "nuaES4LP30kZ",
        "outputId": "2c077464-3f98-4fec-dafc-7f3576e69b7f"
      },
      "source": [
        "df = read_csv('data/zhestov.ea@phystech.edu.csv', header=None)\n",
        "df.head()"
      ],
      "execution_count": 4,
      "outputs": [
        {
          "output_type": "execute_result",
          "data": {
            "text/html": [
              "<div>\n",
              "<style scoped>\n",
              "    .dataframe tbody tr th:only-of-type {\n",
              "        vertical-align: middle;\n",
              "    }\n",
              "\n",
              "    .dataframe tbody tr th {\n",
              "        vertical-align: top;\n",
              "    }\n",
              "\n",
              "    .dataframe thead th {\n",
              "        text-align: right;\n",
              "    }\n",
              "</style>\n",
              "<table border=\"1\" class=\"dataframe\">\n",
              "  <thead>\n",
              "    <tr style=\"text-align: right;\">\n",
              "      <th></th>\n",
              "      <th>0</th>\n",
              "    </tr>\n",
              "  </thead>\n",
              "  <tbody>\n",
              "    <tr>\n",
              "      <th>0</th>\n",
              "      <td>0.0</td>\n",
              "    </tr>\n",
              "    <tr>\n",
              "      <th>1</th>\n",
              "      <td>1.0</td>\n",
              "    </tr>\n",
              "    <tr>\n",
              "      <th>2</th>\n",
              "      <td>0.0</td>\n",
              "    </tr>\n",
              "    <tr>\n",
              "      <th>3</th>\n",
              "      <td>0.0</td>\n",
              "    </tr>\n",
              "    <tr>\n",
              "      <th>4</th>\n",
              "      <td>1.0</td>\n",
              "    </tr>\n",
              "  </tbody>\n",
              "</table>\n",
              "</div>"
            ],
            "text/plain": [
              "     0\n",
              "0  0.0\n",
              "1  1.0\n",
              "2  0.0\n",
              "3  0.0\n",
              "4  1.0"
            ]
          },
          "metadata": {
            "tags": []
          },
          "execution_count": 4
        }
      ]
    },
    {
      "cell_type": "code",
      "metadata": {
        "colab": {
          "base_uri": "https://localhost:8080/",
          "height": 300
        },
        "id": "ttiVPFHQ339r",
        "outputId": "f528b0b2-7a5a-4477-c3db-8156e69b7c3e"
      },
      "source": [
        "df.describe()"
      ],
      "execution_count": 5,
      "outputs": [
        {
          "output_type": "execute_result",
          "data": {
            "text/html": [
              "<div>\n",
              "<style scoped>\n",
              "    .dataframe tbody tr th:only-of-type {\n",
              "        vertical-align: middle;\n",
              "    }\n",
              "\n",
              "    .dataframe tbody tr th {\n",
              "        vertical-align: top;\n",
              "    }\n",
              "\n",
              "    .dataframe thead th {\n",
              "        text-align: right;\n",
              "    }\n",
              "</style>\n",
              "<table border=\"1\" class=\"dataframe\">\n",
              "  <thead>\n",
              "    <tr style=\"text-align: right;\">\n",
              "      <th></th>\n",
              "      <th>0</th>\n",
              "    </tr>\n",
              "  </thead>\n",
              "  <tbody>\n",
              "    <tr>\n",
              "      <th>count</th>\n",
              "      <td>5000.000000</td>\n",
              "    </tr>\n",
              "    <tr>\n",
              "      <th>mean</th>\n",
              "      <td>0.584200</td>\n",
              "    </tr>\n",
              "    <tr>\n",
              "      <th>std</th>\n",
              "      <td>0.492909</td>\n",
              "    </tr>\n",
              "    <tr>\n",
              "      <th>min</th>\n",
              "      <td>0.000000</td>\n",
              "    </tr>\n",
              "    <tr>\n",
              "      <th>25%</th>\n",
              "      <td>0.000000</td>\n",
              "    </tr>\n",
              "    <tr>\n",
              "      <th>50%</th>\n",
              "      <td>1.000000</td>\n",
              "    </tr>\n",
              "    <tr>\n",
              "      <th>75%</th>\n",
              "      <td>1.000000</td>\n",
              "    </tr>\n",
              "    <tr>\n",
              "      <th>max</th>\n",
              "      <td>1.000000</td>\n",
              "    </tr>\n",
              "  </tbody>\n",
              "</table>\n",
              "</div>"
            ],
            "text/plain": [
              "                 0\n",
              "count  5000.000000\n",
              "mean      0.584200\n",
              "std       0.492909\n",
              "min       0.000000\n",
              "25%       0.000000\n",
              "50%       1.000000\n",
              "75%       1.000000\n",
              "max       1.000000"
            ]
          },
          "metadata": {
            "tags": []
          },
          "execution_count": 5
        }
      ]
    },
    {
      "cell_type": "code",
      "metadata": {
        "colab": {
          "base_uri": "https://localhost:8080/",
          "height": 318
        },
        "id": "Ti2M4SCl4LjH",
        "outputId": "eac57df7-a20d-4d82-f7d4-a2a4388331a3"
      },
      "source": [
        "df.hist()"
      ],
      "execution_count": 6,
      "outputs": [
        {
          "output_type": "execute_result",
          "data": {
            "text/plain": [
              "array([[<matplotlib.axes._subplots.AxesSubplot object at 0x7f5371d10cd0>]],\n",
              "      dtype=object)"
            ]
          },
          "metadata": {
            "tags": []
          },
          "execution_count": 6
        },
        {
          "output_type": "display_data",
          "data": {
            "image/png": "[encoded data removed]",
            "text/plain": [
              "<Figure size 432x288 with 1 Axes>"
            ]
          },
          "metadata": {
            "tags": [],
            "needs_background": "light"
          }
        }
      ]
    },
    {
      "cell_type": "markdown",
      "metadata": {
        "id": "3pnuSrL1HhE2"
      },
      "source": [
        "# Задание"
      ]
    },
    {
      "cell_type": "markdown",
      "metadata": {
        "id": "3T6wjNXE4WL9"
      },
      "source": [
        "## Вопрос 1\n",
        "Оценка вероятности методом максимального правдоподобия. (Ответ округлите до 3-х знаков после запятой)."
      ]
    },
    {
      "cell_type": "code",
      "metadata": {
        "colab": {
          "base_uri": "https://localhost:8080/"
        },
        "id": "rcmjKecy8c3h",
        "outputId": "bba0999c-fdcb-46f1-cfa9-b97904e4faab"
      },
      "source": [
        "p = len(df[df[0] == 1]) / len(df)\n",
        "print(f'p = {p:.3}')"
      ],
      "execution_count": 7,
      "outputs": [
        {
          "output_type": "stream",
          "text": [
            "p = 0.584\n"
          ],
          "name": "stdout"
        }
      ]
    },
    {
      "cell_type": "markdown",
      "metadata": {
        "id": "i3yp1lS_8_cf"
      },
      "source": [
        "## Вопрос 2\n",
        "С помощью последовательного анализа проверить нулевую гипотезу $p_0=0.5$ против $p_1$, полученной методом максимального правдоподобия. Использовать библиотеку `sprt` с $\\alpha=\\beta=0.05$. Гипотеза принимается?"
      ]
    },
    {
      "cell_type": "code",
      "metadata": {
        "colab": {
          "base_uri": "https://localhost:8080/",
          "height": 649
        },
        "id": "YYyxXswn4nvH",
        "outputId": "b9f55f19-ba26-4842-e60a-315786c2a871"
      },
      "source": [
        "alpha = beta = 0.05\n",
        "\n",
        "test = SPRTBinomial(alpha=alpha, beta=beta, h0=0.5, h1=p, values=df[0])\n",
        "test.plot()"
      ],
      "execution_count": 8,
      "outputs": [
        {
          "output_type": "stream",
          "text": [
            "Decision:\tReject\n",
            "\n",
            "      values     lower     upper\n",
            "n                               \n",
            "4991  2917.0  2697.968  2715.287\n",
            "4992  2917.0  2698.511  2715.829\n",
            "4993  2918.0  2699.053  2716.371\n",
            "4994  2919.0  2699.595  2716.914\n",
            "4995  2920.0  2700.138  2717.456\n",
            "4996  2920.0  2700.680  2717.998\n",
            "4997  2920.0  2701.222  2718.541\n",
            "4998  2921.0  2701.765  2719.083\n",
            "4999  2921.0  2702.307  2719.625\n",
            "5000     NaN  2702.849  2720.167\n"
          ],
          "name": "stdout"
        },
        {
          "output_type": "display_data",
          "data": {
            "image/png": "[encoded data removed]",
            "text/plain": [
              "<Figure size 576x432 with 1 Axes>"
            ]
          },
          "metadata": {
            "tags": [],
            "needs_background": "light"
          }
        }
      ]
    },
    {
      "cell_type": "code",
      "metadata": {
        "colab": {
          "base_uri": "https://localhost:8080/"
        },
        "id": "aWz3vC3L9Osy",
        "outputId": "653e9875-fdc4-4789-99e7-56eb6abeddc4"
      },
      "source": [
        "print(f'We {test.decision.lower()} the null hypothesis')"
      ],
      "execution_count": 9,
      "outputs": [
        {
          "output_type": "stream",
          "text": [
            "We reject the null hypothesis\n"
          ],
          "name": "stdout"
        }
      ]
    },
    {
      "cell_type": "markdown",
      "metadata": {
        "id": "m2fWYoaE9jJ3"
      },
      "source": [
        "## Вопрос 3\n",
        "Какое минимальное количество итераций требуется для вынесения решения по данной гипотезе?"
      ]
    },
    {
      "cell_type": "code",
      "metadata": {
        "colab": {
          "base_uri": "https://localhost:8080/",
          "height": 429
        },
        "id": "w8QPEaGv5GUV",
        "outputId": "cd9084d1-e8a0-4e5a-c365-dc8575342da4"
      },
      "source": [
        "i = 50\n",
        "test = SPRTBinomial(alpha=alpha, beta=beta, h0=0.5, h1=p, values=df[0][:i])\n",
        "\n",
        "while test.decision != 'Reject':\n",
        "    test = SPRTBinomial(alpha=alpha, beta=beta, h0=0.5, h1=p, values=df[0][:i])\n",
        "    i += 1\n",
        "# Это сделано чтобы убрать нафиг ненужные таблицы.\n",
        "clear_output(wait=True)\n",
        "\n",
        "test.plot()\n",
        "print(f'\\n Гипотеза отклоняется за {i} итераций')"
      ],
      "execution_count": 10,
      "outputs": [
        {
          "output_type": "display_data",
          "data": {
            "image/png": "[encoded data removed]",
            "text/plain": [
              "<Figure size 576x432 with 1 Axes>"
            ]
          },
          "metadata": {
            "tags": [],
            "needs_background": "light"
          }
        },
        {
          "output_type": "stream",
          "text": [
            "\n",
            " Гипотеза отклоняется за 119 итераций\n"
          ],
          "name": "stdout"
        }
      ]
    },
    {
      "cell_type": "markdown",
      "metadata": {
        "id": "DlNW47bnA0Vg"
      },
      "source": [
        "## Вопрос 4\n",
        "Матождиание требуемого количества итераций (для решения уравнения со слайдов можно использовать `scipy.optimize.root_scalar`). За истинное значение параметра принимать МП-оценку. Округлять до целого числа в меньшую сторону."
      ]
    },
    {
      "cell_type": "markdown",
      "metadata": {
        "id": "RZXmWhKrFCqO"
      },
      "source": [
        "Вот до этого момента я вроде понимал, что происходит.\n",
        "\n",
        "\n",
        "Дальнейший код взят [у Кирилла](https://github.com/puchkovki/psad/blob/master/hometask/sem10/hw-10.ipynb), а он, видимо, чуть доделал [код Андрея](https://github.com/Intelligent-Systems-Phystech/psad/blob/master/seminars/sem10/main.ipynb)."
      ]
    },
    {
      "cell_type": "code",
      "metadata": {
        "id": "9l4bk_ky9xTr"
      },
      "source": [
        "def expectation(p, p_0, alpha, beta, h):\n",
        "    A = (1 - beta) / alpha\n",
        "    B = beta / (1 - alpha)\n",
        "    L = (A ** h - 1) / (A ** h - B ** h)\n",
        "    \n",
        "    result = (L * log(B) + (1 - L) * log(A)) / (p * log(p / p_0) + (1 - p) * log((1 - p)/(1 - p_0)))\n",
        "    return result\n",
        "\n",
        "def f(x, p, p_0):\n",
        "    return (1 - ((1 - p) / (1 - p_0))**x) / ((p / p_0)**x - ((1 - p) / (1 - p_0))**x) - p"
      ],
      "execution_count": 11,
      "outputs": []
    },
    {
      "cell_type": "code",
      "metadata": {
        "colab": {
          "base_uri": "https://localhost:8080/"
        },
        "id": "XZNhipROBBJA",
        "outputId": "940b1e46-3c1e-452b-ac7a-40dcad46b49d"
      },
      "source": [
        "p = len(df[df[0] == 1]) / len(df)\n",
        "p_0 = 0.5\n",
        "alpha = 0.05\n",
        "beta = 0.05\n",
        "\n",
        "f_new = partial(f, p=p, p_0=p_0)\n",
        "\n",
        "sol = root_scalar(f_new, bracket=[-10, 10], method='brentq')\n",
        "print(f'{sol}')\n",
        "h = sol.root\n",
        "print(f'\\nExpectation of the iterations count: {floor(expectation(p, p_0, alpha, beta, h))}')"
      ],
      "execution_count": 12,
      "outputs": [
        {
          "output_type": "stream",
          "text": [
            "      converged: True\n",
            "           flag: 'converged'\n",
            " function_calls: 8\n",
            "     iterations: 7\n",
            "           root: -1.0000000000000024\n",
            "\n",
            "Expectation of the iterations count: 186\n"
          ],
          "name": "stdout"
        }
      ]
    },
    {
      "cell_type": "code",
      "metadata": {
        "id": "xFWHBRwYBk1R"
      },
      "source": [
        ""
      ],
      "execution_count": null,
      "outputs": []
    }
  ]
}