{
  "nbformat": 4,
  "nbformat_minor": 0,
  "metadata": {
    "colab": {
      "name": "Applied_stats_08.ipynb",
      "provenance": []
    },
    "kernelspec": {
      "name": "python3",
      "display_name": "Python 3"
    },
    "language_info": {
      "name": "python"
    }
  },
  "cells": [
    {
      "cell_type": "markdown",
      "metadata": {
        "id": "of5-pbDKB3GP"
      },
      "source": [
        "# Загрузка датасета и первый взгляд"
      ]
    },
    {
      "cell_type": "code",
      "metadata": {
        "colab": {
          "base_uri": "https://localhost:8080/"
        },
        "id": "MJdpIRHn-N1f",
        "outputId": "c51731ba-3d36-4083-fb26-0e72a4561f25"
      },
      "source": [
        "!mkdir data\n",
        "!wget https://raw.githubusercontent.com/Intelligent-Systems-Phystech/psad/master/hometask/sem8/zhestov.ea%40phystech.edu.csv -O data/zhestov.ea@phystech.edu.csv"
      ],
      "execution_count": 1,
      "outputs": [
        {
          "output_type": "stream",
          "text": [
            "--2021-04-05 21:53:44--  https://raw.githubusercontent.com/Intelligent-Systems-Phystech/psad/master/hometask/sem8/zhestov.ea%40phystech.edu.csv\n",
            "Resolving raw.githubusercontent.com (raw.githubusercontent.com)... 185.199.108.133, 185.199.109.133, 185.199.110.133, ...\n",
            "Connecting to raw.githubusercontent.com (raw.githubusercontent.com)|185.199.108.133|:443... connected.\n",
            "HTTP request sent, awaiting response... 200 OK\n",
            "Length: 280043 (273K) [text/plain]\n",
            "Saving to: ‘data/zhestov.ea@phystech.edu.csv’\n",
            "\n",
            "data/zhestov.ea@phy 100%[===================>] 273.48K  --.-KB/s    in 0.03s   \n",
            "\n",
            "2021-04-05 21:53:44 (8.54 MB/s) - ‘data/zhestov.ea@phystech.edu.csv’ saved [280043/280043]\n",
            "\n"
          ],
          "name": "stdout"
        }
      ]
    },
    {
      "cell_type": "code",
      "metadata": {
        "id": "GlZRnOjm-jVX",
        "colab": {
          "base_uri": "https://localhost:8080/"
        },
        "outputId": "dcba9780-7153-4c8d-e6db-0816da317c7b"
      },
      "source": [
        "import pandas as pd\n",
        "import seaborn as sns\n",
        "from sklearn.metrics import accuracy_score\n",
        "import statsmodels.api as sm"
      ],
      "execution_count": 2,
      "outputs": [
        {
          "output_type": "stream",
          "text": [
            "/usr/local/lib/python3.7/dist-packages/statsmodels/tools/_testing.py:19: FutureWarning: pandas.util.testing is deprecated. Use the functions in the public API at pandas.testing instead.\n",
            "  import pandas.util.testing as tm\n"
          ],
          "name": "stderr"
        }
      ]
    },
    {
      "cell_type": "code",
      "metadata": {
        "id": "LpidIOOxAJAi"
      },
      "source": [
        "data = pd.read_csv('data/zhestov.ea@phystech.edu.csv', header=None)"
      ],
      "execution_count": 3,
      "outputs": []
    },
    {
      "cell_type": "code",
      "metadata": {
        "colab": {
          "base_uri": "https://localhost:8080/",
          "height": 226
        },
        "id": "B7g-HWcrCd8s",
        "outputId": "8f531d4b-763a-4e74-98f4-824a78d4cae4"
      },
      "source": [
        "data.head()"
      ],
      "execution_count": 4,
      "outputs": [
        {
          "output_type": "execute_result",
          "data": {
            "text/html": [
              "<div>\n",
              "<style scoped>\n",
              "    .dataframe tbody tr th:only-of-type {\n",
              "        vertical-align: middle;\n",
              "    }\n",
              "\n",
              "    .dataframe tbody tr th {\n",
              "        vertical-align: top;\n",
              "    }\n",
              "\n",
              "    .dataframe thead th {\n",
              "        text-align: right;\n",
              "    }\n",
              "</style>\n",
              "<table border=\"1\" class=\"dataframe\">\n",
              "  <thead>\n",
              "    <tr style=\"text-align: right;\">\n",
              "      <th></th>\n",
              "      <th>0</th>\n",
              "      <th>1</th>\n",
              "      <th>2</th>\n",
              "      <th>3</th>\n",
              "      <th>4</th>\n",
              "      <th>5</th>\n",
              "      <th>6</th>\n",
              "      <th>7</th>\n",
              "      <th>8</th>\n",
              "      <th>9</th>\n",
              "      <th>10</th>\n",
              "    </tr>\n",
              "  </thead>\n",
              "  <tbody>\n",
              "    <tr>\n",
              "      <th>0</th>\n",
              "      <td>1.0</td>\n",
              "      <td>-1.761398</td>\n",
              "      <td>-0.156257</td>\n",
              "      <td>-0.005979</td>\n",
              "      <td>0.860942</td>\n",
              "      <td>0.091872</td>\n",
              "      <td>-0.331193</td>\n",
              "      <td>0.749937</td>\n",
              "      <td>0.019989</td>\n",
              "      <td>0.032373</td>\n",
              "      <td>0.319947</td>\n",
              "    </tr>\n",
              "    <tr>\n",
              "      <th>1</th>\n",
              "      <td>0.0</td>\n",
              "      <td>-1.303103</td>\n",
              "      <td>0.387844</td>\n",
              "      <td>-1.128526</td>\n",
              "      <td>1.457206</td>\n",
              "      <td>0.812469</td>\n",
              "      <td>-0.022561</td>\n",
              "      <td>-2.500210</td>\n",
              "      <td>-1.444416</td>\n",
              "      <td>-0.235715</td>\n",
              "      <td>0.925951</td>\n",
              "    </tr>\n",
              "    <tr>\n",
              "      <th>2</th>\n",
              "      <td>0.0</td>\n",
              "      <td>-0.249461</td>\n",
              "      <td>1.443965</td>\n",
              "      <td>0.620882</td>\n",
              "      <td>0.470192</td>\n",
              "      <td>0.988734</td>\n",
              "      <td>0.028974</td>\n",
              "      <td>-0.640343</td>\n",
              "      <td>-0.405336</td>\n",
              "      <td>0.084876</td>\n",
              "      <td>0.031681</td>\n",
              "    </tr>\n",
              "    <tr>\n",
              "      <th>3</th>\n",
              "      <td>0.0</td>\n",
              "      <td>-0.230755</td>\n",
              "      <td>-0.765686</td>\n",
              "      <td>1.712833</td>\n",
              "      <td>-0.874092</td>\n",
              "      <td>0.423669</td>\n",
              "      <td>-1.889826</td>\n",
              "      <td>0.014605</td>\n",
              "      <td>-0.661475</td>\n",
              "      <td>0.213601</td>\n",
              "      <td>1.189151</td>\n",
              "    </tr>\n",
              "    <tr>\n",
              "      <th>4</th>\n",
              "      <td>0.0</td>\n",
              "      <td>0.526141</td>\n",
              "      <td>1.154553</td>\n",
              "      <td>-1.136941</td>\n",
              "      <td>-0.689502</td>\n",
              "      <td>0.684815</td>\n",
              "      <td>0.901370</td>\n",
              "      <td>-1.486596</td>\n",
              "      <td>-0.721248</td>\n",
              "      <td>0.468192</td>\n",
              "      <td>2.423638</td>\n",
              "    </tr>\n",
              "  </tbody>\n",
              "</table>\n",
              "</div>"
            ],
            "text/plain": [
              "    0         1         2         3   ...        7         8         9         10\n",
              "0  1.0 -1.761398 -0.156257 -0.005979  ...  0.749937  0.019989  0.032373  0.319947\n",
              "1  0.0 -1.303103  0.387844 -1.128526  ... -2.500210 -1.444416 -0.235715  0.925951\n",
              "2  0.0 -0.249461  1.443965  0.620882  ... -0.640343 -0.405336  0.084876  0.031681\n",
              "3  0.0 -0.230755 -0.765686  1.712833  ...  0.014605 -0.661475  0.213601  1.189151\n",
              "4  0.0  0.526141  1.154553 -1.136941  ... -1.486596 -0.721248  0.468192  2.423638\n",
              "\n",
              "[5 rows x 11 columns]"
            ]
          },
          "metadata": {
            "tags": []
          },
          "execution_count": 4
        }
      ]
    },
    {
      "cell_type": "code",
      "metadata": {
        "colab": {
          "base_uri": "https://localhost:8080/",
          "height": 320
        },
        "id": "1u_TVKYrCvUx",
        "outputId": "da1943f7-51be-43de-bbfb-5f6872979202"
      },
      "source": [
        "column_names = list(map(lambda num: f\"X{num - 1}\", data.columns))\n",
        "column_names[0] = 'Y'\n",
        "column_names\n",
        "data.columns = column_names\n",
        "data.describe()"
      ],
      "execution_count": 5,
      "outputs": [
        {
          "output_type": "execute_result",
          "data": {
            "text/html": [
              "<div>\n",
              "<style scoped>\n",
              "    .dataframe tbody tr th:only-of-type {\n",
              "        vertical-align: middle;\n",
              "    }\n",
              "\n",
              "    .dataframe tbody tr th {\n",
              "        vertical-align: top;\n",
              "    }\n",
              "\n",
              "    .dataframe thead th {\n",
              "        text-align: right;\n",
              "    }\n",
              "</style>\n",
              "<table border=\"1\" class=\"dataframe\">\n",
              "  <thead>\n",
              "    <tr style=\"text-align: right;\">\n",
              "      <th></th>\n",
              "      <th>Y</th>\n",
              "      <th>X0</th>\n",
              "      <th>X1</th>\n",
              "      <th>X2</th>\n",
              "      <th>X3</th>\n",
              "      <th>X4</th>\n",
              "      <th>X5</th>\n",
              "      <th>X6</th>\n",
              "      <th>X7</th>\n",
              "      <th>X8</th>\n",
              "      <th>X9</th>\n",
              "    </tr>\n",
              "  </thead>\n",
              "  <tbody>\n",
              "    <tr>\n",
              "      <th>count</th>\n",
              "      <td>1000.000000</td>\n",
              "      <td>1000.000000</td>\n",
              "      <td>1000.000000</td>\n",
              "      <td>1000.000000</td>\n",
              "      <td>1000.000000</td>\n",
              "      <td>1000.000000</td>\n",
              "      <td>1000.000000</td>\n",
              "      <td>1000.000000</td>\n",
              "      <td>1000.000000</td>\n",
              "      <td>1000.000000</td>\n",
              "      <td>1000.000000</td>\n",
              "    </tr>\n",
              "    <tr>\n",
              "      <th>mean</th>\n",
              "      <td>0.474000</td>\n",
              "      <td>0.072231</td>\n",
              "      <td>-0.051437</td>\n",
              "      <td>-0.060313</td>\n",
              "      <td>0.032660</td>\n",
              "      <td>0.006941</td>\n",
              "      <td>-0.024947</td>\n",
              "      <td>0.006426</td>\n",
              "      <td>-0.028679</td>\n",
              "      <td>-0.020293</td>\n",
              "      <td>-0.026283</td>\n",
              "    </tr>\n",
              "    <tr>\n",
              "      <th>std</th>\n",
              "      <td>0.499573</td>\n",
              "      <td>1.016500</td>\n",
              "      <td>0.998119</td>\n",
              "      <td>0.983231</td>\n",
              "      <td>1.005172</td>\n",
              "      <td>0.993745</td>\n",
              "      <td>0.991906</td>\n",
              "      <td>0.998349</td>\n",
              "      <td>0.961597</td>\n",
              "      <td>1.003385</td>\n",
              "      <td>0.991686</td>\n",
              "    </tr>\n",
              "    <tr>\n",
              "      <th>min</th>\n",
              "      <td>0.000000</td>\n",
              "      <td>-3.130053</td>\n",
              "      <td>-3.287880</td>\n",
              "      <td>-2.842902</td>\n",
              "      <td>-2.870782</td>\n",
              "      <td>-2.696203</td>\n",
              "      <td>-3.949313</td>\n",
              "      <td>-2.933166</td>\n",
              "      <td>-3.370755</td>\n",
              "      <td>-3.420011</td>\n",
              "      <td>-3.275969</td>\n",
              "    </tr>\n",
              "    <tr>\n",
              "      <th>25%</th>\n",
              "      <td>0.000000</td>\n",
              "      <td>-0.622599</td>\n",
              "      <td>-0.753558</td>\n",
              "      <td>-0.709180</td>\n",
              "      <td>-0.669469</td>\n",
              "      <td>-0.667142</td>\n",
              "      <td>-0.732571</td>\n",
              "      <td>-0.644894</td>\n",
              "      <td>-0.649648</td>\n",
              "      <td>-0.690803</td>\n",
              "      <td>-0.688340</td>\n",
              "    </tr>\n",
              "    <tr>\n",
              "      <th>50%</th>\n",
              "      <td>0.000000</td>\n",
              "      <td>0.071710</td>\n",
              "      <td>-0.058918</td>\n",
              "      <td>-0.022007</td>\n",
              "      <td>0.035155</td>\n",
              "      <td>0.002624</td>\n",
              "      <td>-0.052348</td>\n",
              "      <td>0.013527</td>\n",
              "      <td>0.001218</td>\n",
              "      <td>-0.042588</td>\n",
              "      <td>-0.005404</td>\n",
              "    </tr>\n",
              "    <tr>\n",
              "      <th>75%</th>\n",
              "      <td>1.000000</td>\n",
              "      <td>0.775350</td>\n",
              "      <td>0.649182</td>\n",
              "      <td>0.604349</td>\n",
              "      <td>0.697111</td>\n",
              "      <td>0.669500</td>\n",
              "      <td>0.693689</td>\n",
              "      <td>0.745126</td>\n",
              "      <td>0.625735</td>\n",
              "      <td>0.671355</td>\n",
              "      <td>0.647797</td>\n",
              "    </tr>\n",
              "    <tr>\n",
              "      <th>max</th>\n",
              "      <td>1.000000</td>\n",
              "      <td>3.058372</td>\n",
              "      <td>3.327818</td>\n",
              "      <td>2.980125</td>\n",
              "      <td>3.318213</td>\n",
              "      <td>3.409064</td>\n",
              "      <td>3.167181</td>\n",
              "      <td>2.965234</td>\n",
              "      <td>3.022946</td>\n",
              "      <td>2.980623</td>\n",
              "      <td>3.057821</td>\n",
              "    </tr>\n",
              "  </tbody>\n",
              "</table>\n",
              "</div>"
            ],
            "text/plain": [
              "                 Y           X0  ...           X8           X9\n",
              "count  1000.000000  1000.000000  ...  1000.000000  1000.000000\n",
              "mean      0.474000     0.072231  ...    -0.020293    -0.026283\n",
              "std       0.499573     1.016500  ...     1.003385     0.991686\n",
              "min       0.000000    -3.130053  ...    -3.420011    -3.275969\n",
              "25%       0.000000    -0.622599  ...    -0.690803    -0.688340\n",
              "50%       0.000000     0.071710  ...    -0.042588    -0.005404\n",
              "75%       1.000000     0.775350  ...     0.671355     0.647797\n",
              "max       1.000000     3.058372  ...     2.980623     3.057821\n",
              "\n",
              "[8 rows x 11 columns]"
            ]
          },
          "metadata": {
            "tags": []
          },
          "execution_count": 5
        }
      ]
    },
    {
      "cell_type": "code",
      "metadata": {
        "colab": {
          "base_uri": "https://localhost:8080/"
        },
        "id": "iURFiBWsC1G5",
        "outputId": "5b4bd43e-971e-4bcb-dd97-32615cb10658"
      },
      "source": [
        "X = data.drop('Y', axis=1)\n",
        "y = data['Y']\n",
        "print(X.shape, y.shape)"
      ],
      "execution_count": 6,
      "outputs": [
        {
          "output_type": "stream",
          "text": [
            "(1000, 10) (1000,)\n"
          ],
          "name": "stdout"
        }
      ]
    },
    {
      "cell_type": "code",
      "metadata": {
        "id": "YUnLhgAJAPjF"
      },
      "source": [
        "sns.pairplot(data)"
      ],
      "execution_count": null,
      "outputs": []
    },
    {
      "cell_type": "markdown",
      "metadata": {
        "id": "Nn6hD71GBuWK"
      },
      "source": [
        "Я бы использовал тут `Probit`, ибо данные явно нормальные, но логит так логит, чё нам"
      ]
    },
    {
      "cell_type": "markdown",
      "metadata": {
        "id": "PeH2PlhFB16L"
      },
      "source": [
        "# Задание\n",
        "## Вопрос 1\n",
        "Постройте модель логистической регрессии $Y$ от $X$ и свободного коэффициента. Каково отношение шансов $Y=1$ к событию $f(X) = 1$, где $f(X)$ - отклик?"
      ]
    },
    {
      "cell_type": "code",
      "metadata": {
        "colab": {
          "base_uri": "https://localhost:8080/",
          "height": 501
        },
        "id": "hCGPNwFLAUPO",
        "outputId": "62826ea3-f9e9-4a95-ae7d-79e023db7479"
      },
      "source": [
        "logit_model = sm.Logit(endog=y, exog=sm.add_constant(X)).fit()\n",
        "logit_model.summary()"
      ],
      "execution_count": 7,
      "outputs": [
        {
          "output_type": "stream",
          "text": [
            "Optimization terminated successfully.\n",
            "         Current function value: 0.341465\n",
            "         Iterations 7\n"
          ],
          "name": "stdout"
        },
        {
          "output_type": "execute_result",
          "data": {
            "text/html": [
              "<table class=\"simpletable\">\n",
              "<caption>Logit Regression Results</caption>\n",
              "<tr>\n",
              "  <th>Dep. Variable:</th>           <td>Y</td>        <th>  No. Observations:  </th>   <td>  1000</td>  \n",
              "</tr>\n",
              "<tr>\n",
              "  <th>Model:</th>                 <td>Logit</td>      <th>  Df Residuals:      </th>   <td>   989</td>  \n",
              "</tr>\n",
              "<tr>\n",
              "  <th>Method:</th>                 <td>MLE</td>       <th>  Df Model:          </th>   <td>    10</td>  \n",
              "</tr>\n",
              "<tr>\n",
              "  <th>Date:</th>            <td>Mon, 05 Apr 2021</td> <th>  Pseudo R-squ.:     </th>   <td>0.5064</td>  \n",
              "</tr>\n",
              "<tr>\n",
              "  <th>Time:</th>                <td>21:53:47</td>     <th>  Log-Likelihood:    </th>  <td> -341.46</td> \n",
              "</tr>\n",
              "<tr>\n",
              "  <th>converged:</th>             <td>True</td>       <th>  LL-Null:           </th>  <td> -691.79</td> \n",
              "</tr>\n",
              "<tr>\n",
              "  <th>Covariance Type:</th>     <td>nonrobust</td>    <th>  LLR p-value:       </th> <td>4.534e-144</td>\n",
              "</tr>\n",
              "</table>\n",
              "<table class=\"simpletable\">\n",
              "<tr>\n",
              "    <td></td>       <th>coef</th>     <th>std err</th>      <th>z</th>      <th>P>|z|</th>  <th>[0.025</th>    <th>0.975]</th>  \n",
              "</tr>\n",
              "<tr>\n",
              "  <th>const</th> <td>   -0.1498</td> <td>    0.098</td> <td>   -1.524</td> <td> 0.127</td> <td>   -0.342</td> <td>    0.043</td>\n",
              "</tr>\n",
              "<tr>\n",
              "  <th>X0</th>    <td>   -0.1269</td> <td>    0.096</td> <td>   -1.326</td> <td> 0.185</td> <td>   -0.315</td> <td>    0.061</td>\n",
              "</tr>\n",
              "<tr>\n",
              "  <th>X1</th>    <td>    0.0071</td> <td>    0.096</td> <td>    0.074</td> <td> 0.941</td> <td>   -0.182</td> <td>    0.196</td>\n",
              "</tr>\n",
              "<tr>\n",
              "  <th>X2</th>    <td>    0.0358</td> <td>    0.097</td> <td>    0.370</td> <td> 0.711</td> <td>   -0.154</td> <td>    0.225</td>\n",
              "</tr>\n",
              "<tr>\n",
              "  <th>X3</th>    <td>   -0.0106</td> <td>    0.095</td> <td>   -0.111</td> <td> 0.911</td> <td>   -0.197</td> <td>    0.176</td>\n",
              "</tr>\n",
              "<tr>\n",
              "  <th>X4</th>    <td>    0.0638</td> <td>    0.096</td> <td>    0.663</td> <td> 0.507</td> <td>   -0.125</td> <td>    0.252</td>\n",
              "</tr>\n",
              "<tr>\n",
              "  <th>X5</th>    <td>    1.4756</td> <td>    0.129</td> <td>   11.421</td> <td> 0.000</td> <td>    1.222</td> <td>    1.729</td>\n",
              "</tr>\n",
              "<tr>\n",
              "  <th>X6</th>    <td>    1.4502</td> <td>    0.126</td> <td>   11.554</td> <td> 0.000</td> <td>    1.204</td> <td>    1.696</td>\n",
              "</tr>\n",
              "<tr>\n",
              "  <th>X7</th>    <td>    1.2688</td> <td>    0.125</td> <td>   10.115</td> <td> 0.000</td> <td>    1.023</td> <td>    1.515</td>\n",
              "</tr>\n",
              "<tr>\n",
              "  <th>X8</th>    <td>    1.4103</td> <td>    0.124</td> <td>   11.396</td> <td> 0.000</td> <td>    1.168</td> <td>    1.653</td>\n",
              "</tr>\n",
              "<tr>\n",
              "  <th>X9</th>    <td>    1.5051</td> <td>    0.128</td> <td>   11.740</td> <td> 0.000</td> <td>    1.254</td> <td>    1.756</td>\n",
              "</tr>\n",
              "</table>"
            ],
            "text/plain": [
              "<class 'statsmodels.iolib.summary.Summary'>\n",
              "\"\"\"\n",
              "                           Logit Regression Results                           \n",
              "==============================================================================\n",
              "Dep. Variable:                      Y   No. Observations:                 1000\n",
              "Model:                          Logit   Df Residuals:                      989\n",
              "Method:                           MLE   Df Model:                           10\n",
              "Date:                Mon, 05 Apr 2021   Pseudo R-squ.:                  0.5064\n",
              "Time:                        21:53:47   Log-Likelihood:                -341.46\n",
              "converged:                       True   LL-Null:                       -691.79\n",
              "Covariance Type:            nonrobust   LLR p-value:                4.534e-144\n",
              "==============================================================================\n",
              "                 coef    std err          z      P>|z|      [0.025      0.975]\n",
              "------------------------------------------------------------------------------\n",
              "const         -0.1498      0.098     -1.524      0.127      -0.342       0.043\n",
              "X0            -0.1269      0.096     -1.326      0.185      -0.315       0.061\n",
              "X1             0.0071      0.096      0.074      0.941      -0.182       0.196\n",
              "X2             0.0358      0.097      0.370      0.711      -0.154       0.225\n",
              "X3            -0.0106      0.095     -0.111      0.911      -0.197       0.176\n",
              "X4             0.0638      0.096      0.663      0.507      -0.125       0.252\n",
              "X5             1.4756      0.129     11.421      0.000       1.222       1.729\n",
              "X6             1.4502      0.126     11.554      0.000       1.204       1.696\n",
              "X7             1.2688      0.125     10.115      0.000       1.023       1.515\n",
              "X8             1.4103      0.124     11.396      0.000       1.168       1.653\n",
              "X9             1.5051      0.128     11.740      0.000       1.254       1.756\n",
              "==============================================================================\n",
              "\"\"\""
            ]
          },
          "metadata": {
            "tags": []
          },
          "execution_count": 7
        }
      ]
    },
    {
      "cell_type": "markdown",
      "metadata": {
        "id": "6qpKWL2HEvin"
      },
      "source": [
        "Видимо тут хотят одну дробь делить на другую дробь, что странновато, но ладно."
      ]
    },
    {
      "cell_type": "code",
      "metadata": {
        "colab": {
          "base_uri": "https://localhost:8080/"
        },
        "id": "V4RZ4AOnF0fZ",
        "outputId": "2fef9bc0-30be-4b58-f1dc-d3250ce8b6d2"
      },
      "source": [
        "y.sum()"
      ],
      "execution_count": 8,
      "outputs": [
        {
          "output_type": "execute_result",
          "data": {
            "text/plain": [
              "474.0"
            ]
          },
          "metadata": {
            "tags": []
          },
          "execution_count": 8
        }
      ]
    },
    {
      "cell_type": "code",
      "metadata": {
        "colab": {
          "base_uri": "https://localhost:8080/"
        },
        "id": "FRNXFKraGs2e",
        "outputId": "20de0aca-eb8f-4fc5-c086-6a79266fa4c7"
      },
      "source": [
        "import numpy as np\n",
        "np.exp(logit_model.params)"
      ],
      "execution_count": 9,
      "outputs": [
        {
          "output_type": "execute_result",
          "data": {
            "text/plain": [
              "const    0.860893\n",
              "X0       0.880782\n",
              "X1       1.007126\n",
              "X2       1.036445\n",
              "X3       0.989473\n",
              "X4       1.065835\n",
              "X5       4.373517\n",
              "X6       4.264158\n",
              "X7       3.556430\n",
              "X8       4.097173\n",
              "X9       4.504535\n",
              "dtype: float64"
            ]
          },
          "metadata": {
            "tags": []
          },
          "execution_count": 9
        }
      ]
    },
    {
      "cell_type": "markdown",
      "metadata": {
        "id": "nO3dUU7UG4kG"
      },
      "source": [
        "Андрей сказал, что тут от нас требуют штуку под названием *Odds ratio*"
      ]
    },
    {
      "cell_type": "code",
      "metadata": {
        "id": "r7DY-cQ1Dj2L"
      },
      "source": [
        "p_endog = y.sum()\n",
        "p_endog_normed = p_endog / len(y)\n",
        "f = logit_model.predict(sm.add_constant(X))\n",
        "response = list(map(round, f))\n",
        "p_resp = len(list(filter(lambda x: x == 1, response)))\n",
        "p_resp_normed = p_resp / len(response)\n",
        "OR = (p_endog_normed / (1 - p_endog_normed)) * ((1 - p_resp_normed) / p_resp_normed)"
      ],
      "execution_count": 10,
      "outputs": []
    },
    {
      "cell_type": "code",
      "metadata": {
        "colab": {
          "base_uri": "https://localhost:8080/"
        },
        "id": "HIL9FKcnJ4hK",
        "outputId": "2ff18b6e-a8f0-486a-90dd-f48ab90bd576"
      },
      "source": [
        "np.round(OR, decimals=2)"
      ],
      "execution_count": 11,
      "outputs": [
        {
          "output_type": "execute_result",
          "data": {
            "text/plain": [
              "1.0"
            ]
          },
          "metadata": {
            "tags": []
          },
          "execution_count": 11
        }
      ]
    },
    {
      "cell_type": "markdown",
      "metadata": {
        "id": "t9rqa7bZIwIK"
      },
      "source": [
        "## Вопрос 2\n",
        "Какова точность (Accuracy) классификации модели при пороге вероятности для классификации $p_0 = 0.5$?"
      ]
    },
    {
      "cell_type": "code",
      "metadata": {
        "colab": {
          "base_uri": "https://localhost:8080/"
        },
        "id": "UR32FaJDI2Mp",
        "outputId": "5dc12b1b-68c9-42cf-c1e4-26389cf811ca"
      },
      "source": [
        "np.round(accuracy_score(y, response), decimals=2)"
      ],
      "execution_count": 12,
      "outputs": [
        {
          "output_type": "execute_result",
          "data": {
            "text/plain": [
              "0.84"
            ]
          },
          "metadata": {
            "tags": []
          },
          "execution_count": 12
        }
      ]
    },
    {
      "cell_type": "markdown",
      "metadata": {
        "id": "pdjlfDL2KU65"
      },
      "source": [
        "## Вопрос 3\n",
        "Постройте модель логистической регрессии $Y$ от $X$ и свободного коэффициента для первых $200$ элементов выборки. Имеет ли смысл данная модель согласно критерию Вальда? (p-value$=0.05$)"
      ]
    },
    {
      "cell_type": "code",
      "metadata": {
        "id": "ukGnXrmBJUxx"
      },
      "source": [
        "X = X[0:200]\n",
        "y = y[0:200]"
      ],
      "execution_count": 13,
      "outputs": []
    },
    {
      "cell_type": "code",
      "metadata": {
        "colab": {
          "base_uri": "https://localhost:8080/",
          "height": 501
        },
        "id": "ge0VfmjQLCz_",
        "outputId": "1b49ef40-2987-4af4-c7e9-6540f3958e8b"
      },
      "source": [
        "new_model = sm.Logit(endog=y, exog=sm.add_constant(X)).fit()\n",
        "new_model.summary()"
      ],
      "execution_count": 14,
      "outputs": [
        {
          "output_type": "stream",
          "text": [
            "Optimization terminated successfully.\n",
            "         Current function value: 0.284468\n",
            "         Iterations 8\n"
          ],
          "name": "stdout"
        },
        {
          "output_type": "execute_result",
          "data": {
            "text/html": [
              "<table class=\"simpletable\">\n",
              "<caption>Logit Regression Results</caption>\n",
              "<tr>\n",
              "  <th>Dep. Variable:</th>           <td>Y</td>        <th>  No. Observations:  </th>  <td>   200</td>  \n",
              "</tr>\n",
              "<tr>\n",
              "  <th>Model:</th>                 <td>Logit</td>      <th>  Df Residuals:      </th>  <td>   189</td>  \n",
              "</tr>\n",
              "<tr>\n",
              "  <th>Method:</th>                 <td>MLE</td>       <th>  Df Model:          </th>  <td>    10</td>  \n",
              "</tr>\n",
              "<tr>\n",
              "  <th>Date:</th>            <td>Mon, 05 Apr 2021</td> <th>  Pseudo R-squ.:     </th>  <td>0.5837</td>  \n",
              "</tr>\n",
              "<tr>\n",
              "  <th>Time:</th>                <td>21:53:53</td>     <th>  Log-Likelihood:    </th> <td> -56.894</td> \n",
              "</tr>\n",
              "<tr>\n",
              "  <th>converged:</th>             <td>True</td>       <th>  LL-Null:           </th> <td> -136.66</td> \n",
              "</tr>\n",
              "<tr>\n",
              "  <th>Covariance Type:</th>     <td>nonrobust</td>    <th>  LLR p-value:       </th> <td>4.034e-29</td>\n",
              "</tr>\n",
              "</table>\n",
              "<table class=\"simpletable\">\n",
              "<tr>\n",
              "    <td></td>       <th>coef</th>     <th>std err</th>      <th>z</th>      <th>P>|z|</th>  <th>[0.025</th>    <th>0.975]</th>  \n",
              "</tr>\n",
              "<tr>\n",
              "  <th>const</th> <td>   -0.1263</td> <td>    0.243</td> <td>   -0.520</td> <td> 0.603</td> <td>   -0.602</td> <td>    0.349</td>\n",
              "</tr>\n",
              "<tr>\n",
              "  <th>X0</th>    <td>   -0.5263</td> <td>    0.269</td> <td>   -1.955</td> <td> 0.051</td> <td>   -1.054</td> <td>    0.001</td>\n",
              "</tr>\n",
              "<tr>\n",
              "  <th>X1</th>    <td>   -0.0702</td> <td>    0.257</td> <td>   -0.274</td> <td> 0.784</td> <td>   -0.573</td> <td>    0.433</td>\n",
              "</tr>\n",
              "<tr>\n",
              "  <th>X2</th>    <td>   -0.1332</td> <td>    0.288</td> <td>   -0.463</td> <td> 0.643</td> <td>   -0.697</td> <td>    0.430</td>\n",
              "</tr>\n",
              "<tr>\n",
              "  <th>X3</th>    <td>    0.6546</td> <td>    0.310</td> <td>    2.113</td> <td> 0.035</td> <td>    0.047</td> <td>    1.262</td>\n",
              "</tr>\n",
              "<tr>\n",
              "  <th>X4</th>    <td>   -0.5482</td> <td>    0.260</td> <td>   -2.106</td> <td> 0.035</td> <td>   -1.058</td> <td>   -0.038</td>\n",
              "</tr>\n",
              "<tr>\n",
              "  <th>X5</th>    <td>    2.1418</td> <td>    0.408</td> <td>    5.247</td> <td> 0.000</td> <td>    1.342</td> <td>    2.942</td>\n",
              "</tr>\n",
              "<tr>\n",
              "  <th>X6</th>    <td>    2.0313</td> <td>    0.367</td> <td>    5.531</td> <td> 0.000</td> <td>    1.312</td> <td>    2.751</td>\n",
              "</tr>\n",
              "<tr>\n",
              "  <th>X7</th>    <td>    2.0748</td> <td>    0.418</td> <td>    4.969</td> <td> 0.000</td> <td>    1.257</td> <td>    2.893</td>\n",
              "</tr>\n",
              "<tr>\n",
              "  <th>X8</th>    <td>    1.8166</td> <td>    0.358</td> <td>    5.080</td> <td> 0.000</td> <td>    1.116</td> <td>    2.518</td>\n",
              "</tr>\n",
              "<tr>\n",
              "  <th>X9</th>    <td>    1.8886</td> <td>    0.348</td> <td>    5.420</td> <td> 0.000</td> <td>    1.206</td> <td>    2.572</td>\n",
              "</tr>\n",
              "</table>"
            ],
            "text/plain": [
              "<class 'statsmodels.iolib.summary.Summary'>\n",
              "\"\"\"\n",
              "                           Logit Regression Results                           \n",
              "==============================================================================\n",
              "Dep. Variable:                      Y   No. Observations:                  200\n",
              "Model:                          Logit   Df Residuals:                      189\n",
              "Method:                           MLE   Df Model:                           10\n",
              "Date:                Mon, 05 Apr 2021   Pseudo R-squ.:                  0.5837\n",
              "Time:                        21:53:53   Log-Likelihood:                -56.894\n",
              "converged:                       True   LL-Null:                       -136.66\n",
              "Covariance Type:            nonrobust   LLR p-value:                 4.034e-29\n",
              "==============================================================================\n",
              "                 coef    std err          z      P>|z|      [0.025      0.975]\n",
              "------------------------------------------------------------------------------\n",
              "const         -0.1263      0.243     -0.520      0.603      -0.602       0.349\n",
              "X0            -0.5263      0.269     -1.955      0.051      -1.054       0.001\n",
              "X1            -0.0702      0.257     -0.274      0.784      -0.573       0.433\n",
              "X2            -0.1332      0.288     -0.463      0.643      -0.697       0.430\n",
              "X3             0.6546      0.310      2.113      0.035       0.047       1.262\n",
              "X4            -0.5482      0.260     -2.106      0.035      -1.058      -0.038\n",
              "X5             2.1418      0.408      5.247      0.000       1.342       2.942\n",
              "X6             2.0313      0.367      5.531      0.000       1.312       2.751\n",
              "X7             2.0748      0.418      4.969      0.000       1.257       2.893\n",
              "X8             1.8166      0.358      5.080      0.000       1.116       2.518\n",
              "X9             1.8886      0.348      5.420      0.000       1.206       2.572\n",
              "==============================================================================\n",
              "\"\"\""
            ]
          },
          "metadata": {
            "tags": []
          },
          "execution_count": 14
        }
      ]
    },
    {
      "cell_type": "code",
      "metadata": {
        "id": "tN74zlTUMS9J"
      },
      "source": [
        "from functools import reduce\n",
        "\n",
        "string = reduce(lambda x, a: a + x, reversed(' = '.join(map(lambda x: f'X{x}', range(10)))))\n",
        "string = 'const = ' + string"
      ],
      "execution_count": 15,
      "outputs": []
    },
    {
      "cell_type": "code",
      "metadata": {
        "colab": {
          "base_uri": "https://localhost:8080/",
          "height": 37
        },
        "id": "H7S1bErhLMHD",
        "outputId": "a93b8931-1024-4124-f7d2-30882813fdb5"
      },
      "source": [
        "new_model.wald_test(string).summary()"
      ],
      "execution_count": 16,
      "outputs": [
        {
          "output_type": "execute_result",
          "data": {
            "application/vnd.google.colaboratory.intrinsic+json": {
              "type": "string"
            },
            "text/plain": [
              "'<Wald test (chi2): statistic=[[42.78012277]], p-value=5.4439283143136035e-06, df_denom=10>'"
            ]
          },
          "metadata": {
            "tags": []
          },
          "execution_count": 16
        }
      ]
    },
    {
      "cell_type": "markdown",
      "metadata": {
        "id": "DyhX6ig3NkoG"
      },
      "source": [
        "Модель имеет смысл, т.к. нулевая гипотеза о том, что все переменные = 0 имеет pvalue меньше 0.05"
      ]
    },
    {
      "cell_type": "markdown",
      "metadata": {
        "id": "F4wT1_mgNzTy"
      },
      "source": [
        "## Вопрос 4\n",
        "Можно ли обнулить первые четыре переменные согласно критерию Вальда? (p-value$=0.05$)"
      ]
    },
    {
      "cell_type": "code",
      "metadata": {
        "id": "8xyi43-zNSDH"
      },
      "source": [
        "string = reduce(lambda x, a: a + x, reversed(' = '.join(map(lambda x: f'X{x}', range(4)))))"
      ],
      "execution_count": 17,
      "outputs": []
    },
    {
      "cell_type": "code",
      "metadata": {
        "colab": {
          "base_uri": "https://localhost:8080/",
          "height": 37
        },
        "id": "6tY_D3nGNe3b",
        "outputId": "b5035c87-6b27-4cfd-94c7-bf5e7c5f0333"
      },
      "source": [
        "new_model.wald_test(string).summary()"
      ],
      "execution_count": 18,
      "outputs": [
        {
          "output_type": "execute_result",
          "data": {
            "application/vnd.google.colaboratory.intrinsic+json": {
              "type": "string"
            },
            "text/plain": [
              "'<Wald test (chi2): statistic=[[7.28979603]], p-value=0.0632127347911899, df_denom=3>'"
            ]
          },
          "metadata": {
            "tags": []
          },
          "execution_count": 18
        }
      ]
    },
    {
      "cell_type": "markdown",
      "metadata": {
        "id": "HJqfb-1QOKNl"
      },
      "source": [
        "Нельзя обнулить, ибо нулевая гипотеза, что первые 4 переменные равны нулю, имеет pvalue больше $0.05$"
      ]
    },
    {
      "cell_type": "code",
      "metadata": {
        "id": "oAUTS7ZAODNS"
      },
      "source": [
        ""
      ],
      "execution_count": null,
      "outputs": []
    }
  ]
}