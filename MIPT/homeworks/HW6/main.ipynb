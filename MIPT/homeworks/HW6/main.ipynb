{
  "nbformat": 4,
  "nbformat_minor": 0,
  "metadata": {
    "colab": {
      "name": "Applied_stats_06.ipynb",
      "provenance": [],
      "collapsed_sections": []
    },
    "kernelspec": {
      "name": "python3",
      "display_name": "Python 3"
    }
  },
  "cells": [
    {
      "cell_type": "markdown",
      "metadata": {
        "id": "-0G8ZhMG-LXP"
      },
      "source": [
        "# Загрузка датасета и первый взгляд"
      ]
    },
    {
      "cell_type": "code",
      "metadata": {
        "colab": {
          "base_uri": "https://localhost:8080/"
        },
        "id": "TBU4ys398VPn",
        "outputId": "b1397925-6648-423e-fce2-0b81761b32dd"
      },
      "source": [
        "!mkdir ./data\n",
        "!wget https://raw.githubusercontent.com/Intelligent-Systems-Phystech/psad/master/hometask/sem6/zhestov.ea%40phystech.edu.csv -O data/zhestov.ea@phystech.edu.csv"
      ],
      "execution_count": 2,
      "outputs": [
        {
          "output_type": "stream",
          "text": [
            "--2021-03-16 16:51:47--  https://raw.githubusercontent.com/Intelligent-Systems-Phystech/psad/master/hometask/sem6/zhestov.ea%40phystech.edu.csv\n",
            "Resolving raw.githubusercontent.com (raw.githubusercontent.com)... 185.199.111.133, 185.199.110.133, 185.199.108.133, ...\n",
            "Connecting to raw.githubusercontent.com (raw.githubusercontent.com)|185.199.111.133|:443... connected.\n",
            "HTTP request sent, awaiting response... 200 OK\n",
            "Length: 75204 (73K) [text/plain]\n",
            "Saving to: ‘data/zhestov.ea@phystech.edu.csv’\n",
            "\n",
            "\r          data/zhes   0%[                    ]       0  --.-KB/s               \rdata/zhestov.ea@phy 100%[===================>]  73.44K  --.-KB/s    in 0.007s  \n",
            "\n",
            "2021-03-16 16:51:47 (9.71 MB/s) - ‘data/zhestov.ea@phystech.edu.csv’ saved [75204/75204]\n",
            "\n"
          ],
          "name": "stdout"
        }
      ]
    },
    {
      "cell_type": "code",
      "metadata": {
        "id": "CBk4a-46-7Cs"
      },
      "source": [
        "import pandas as pd\n",
        "import seaborn as sns\n",
        "import statsmodels.formula.api as sm"
      ],
      "execution_count": 15,
      "outputs": []
    },
    {
      "cell_type": "code",
      "metadata": {
        "colab": {
          "base_uri": "https://localhost:8080/",
          "height": 206
        },
        "id": "ZzFLoYkD8q9K",
        "outputId": "d7f82514-a013-4309-cbec-dc43d48c3c87"
      },
      "source": [
        "data = pd.read_csv('./data/zhestov.ea@phystech.edu.csv', header=None, names=['f', 'c1', 'c2'])\n",
        "data.head()"
      ],
      "execution_count": 22,
      "outputs": [
        {
          "output_type": "execute_result",
          "data": {
            "text/html": [
              "<div>\n",
              "<style scoped>\n",
              "    .dataframe tbody tr th:only-of-type {\n",
              "        vertical-align: middle;\n",
              "    }\n",
              "\n",
              "    .dataframe tbody tr th {\n",
              "        vertical-align: top;\n",
              "    }\n",
              "\n",
              "    .dataframe thead th {\n",
              "        text-align: right;\n",
              "    }\n",
              "</style>\n",
              "<table border=\"1\" class=\"dataframe\">\n",
              "  <thead>\n",
              "    <tr style=\"text-align: right;\">\n",
              "      <th></th>\n",
              "      <th>f</th>\n",
              "      <th>c1</th>\n",
              "      <th>c2</th>\n",
              "    </tr>\n",
              "  </thead>\n",
              "  <tbody>\n",
              "    <tr>\n",
              "      <th>0</th>\n",
              "      <td>1.292698</td>\n",
              "      <td>1.0</td>\n",
              "      <td>4.0</td>\n",
              "    </tr>\n",
              "    <tr>\n",
              "      <th>1</th>\n",
              "      <td>1.152578</td>\n",
              "      <td>5.0</td>\n",
              "      <td>2.0</td>\n",
              "    </tr>\n",
              "    <tr>\n",
              "      <th>2</th>\n",
              "      <td>1.201221</td>\n",
              "      <td>5.0</td>\n",
              "      <td>2.0</td>\n",
              "    </tr>\n",
              "    <tr>\n",
              "      <th>3</th>\n",
              "      <td>-0.660971</td>\n",
              "      <td>1.0</td>\n",
              "      <td>2.0</td>\n",
              "    </tr>\n",
              "    <tr>\n",
              "      <th>4</th>\n",
              "      <td>0.267133</td>\n",
              "      <td>1.0</td>\n",
              "      <td>4.0</td>\n",
              "    </tr>\n",
              "  </tbody>\n",
              "</table>\n",
              "</div>"
            ],
            "text/plain": [
              "          f   c1   c2\n",
              "0  1.292698  1.0  4.0\n",
              "1  1.152578  5.0  2.0\n",
              "2  1.201221  5.0  2.0\n",
              "3 -0.660971  1.0  2.0\n",
              "4  0.267133  1.0  4.0"
            ]
          },
          "metadata": {
            "tags": []
          },
          "execution_count": 22
        }
      ]
    },
    {
      "cell_type": "code",
      "metadata": {
        "colab": {
          "base_uri": "https://localhost:8080/",
          "height": 300
        },
        "id": "CEmcMRpU9Zzo",
        "outputId": "d78698b2-1979-42b5-855a-148f9c451e2f"
      },
      "source": [
        "data.describe()"
      ],
      "execution_count": 23,
      "outputs": [
        {
          "output_type": "execute_result",
          "data": {
            "text/html": [
              "<div>\n",
              "<style scoped>\n",
              "    .dataframe tbody tr th:only-of-type {\n",
              "        vertical-align: middle;\n",
              "    }\n",
              "\n",
              "    .dataframe tbody tr th {\n",
              "        vertical-align: top;\n",
              "    }\n",
              "\n",
              "    .dataframe thead th {\n",
              "        text-align: right;\n",
              "    }\n",
              "</style>\n",
              "<table border=\"1\" class=\"dataframe\">\n",
              "  <thead>\n",
              "    <tr style=\"text-align: right;\">\n",
              "      <th></th>\n",
              "      <th>f</th>\n",
              "      <th>c1</th>\n",
              "      <th>c2</th>\n",
              "    </tr>\n",
              "  </thead>\n",
              "  <tbody>\n",
              "    <tr>\n",
              "      <th>count</th>\n",
              "      <td>1000.000000</td>\n",
              "      <td>1000.000000</td>\n",
              "      <td>1000.00000</td>\n",
              "    </tr>\n",
              "    <tr>\n",
              "      <th>mean</th>\n",
              "      <td>2.177166</td>\n",
              "      <td>2.972000</td>\n",
              "      <td>3.01000</td>\n",
              "    </tr>\n",
              "    <tr>\n",
              "      <th>std</th>\n",
              "      <td>2.891430</td>\n",
              "      <td>2.000805</td>\n",
              "      <td>1.00045</td>\n",
              "    </tr>\n",
              "    <tr>\n",
              "      <th>min</th>\n",
              "      <td>-3.138948</td>\n",
              "      <td>1.000000</td>\n",
              "      <td>2.00000</td>\n",
              "    </tr>\n",
              "    <tr>\n",
              "      <th>25%</th>\n",
              "      <td>0.162626</td>\n",
              "      <td>1.000000</td>\n",
              "      <td>2.00000</td>\n",
              "    </tr>\n",
              "    <tr>\n",
              "      <th>50%</th>\n",
              "      <td>1.129893</td>\n",
              "      <td>1.000000</td>\n",
              "      <td>4.00000</td>\n",
              "    </tr>\n",
              "    <tr>\n",
              "      <th>75%</th>\n",
              "      <td>2.890768</td>\n",
              "      <td>5.000000</td>\n",
              "      <td>4.00000</td>\n",
              "    </tr>\n",
              "    <tr>\n",
              "      <th>max</th>\n",
              "      <td>9.997608</td>\n",
              "      <td>5.000000</td>\n",
              "      <td>4.00000</td>\n",
              "    </tr>\n",
              "  </tbody>\n",
              "</table>\n",
              "</div>"
            ],
            "text/plain": [
              "                 f           c1          c2\n",
              "count  1000.000000  1000.000000  1000.00000\n",
              "mean      2.177166     2.972000     3.01000\n",
              "std       2.891430     2.000805     1.00045\n",
              "min      -3.138948     1.000000     2.00000\n",
              "25%       0.162626     1.000000     2.00000\n",
              "50%       1.129893     1.000000     4.00000\n",
              "75%       2.890768     5.000000     4.00000\n",
              "max       9.997608     5.000000     4.00000"
            ]
          },
          "metadata": {
            "tags": []
          },
          "execution_count": 23
        }
      ]
    },
    {
      "cell_type": "code",
      "metadata": {
        "colab": {
          "base_uri": "https://localhost:8080/"
        },
        "id": "Xkjg5ez59eTK",
        "outputId": "8b02db82-49b2-43ba-c572-0344ed1a421e"
      },
      "source": [
        "data.info()"
      ],
      "execution_count": 24,
      "outputs": [
        {
          "output_type": "stream",
          "text": [
            "<class 'pandas.core.frame.DataFrame'>\n",
            "RangeIndex: 1000 entries, 0 to 999\n",
            "Data columns (total 3 columns):\n",
            " #   Column  Non-Null Count  Dtype  \n",
            "---  ------  --------------  -----  \n",
            " 0   f       1000 non-null   float64\n",
            " 1   c1      1000 non-null   float64\n",
            " 2   c2      1000 non-null   float64\n",
            "dtypes: float64(3)\n",
            "memory usage: 23.6 KB\n"
          ],
          "name": "stdout"
        }
      ]
    },
    {
      "cell_type": "code",
      "metadata": {
        "id": "fzNloSpHFMOB"
      },
      "source": [
        "data['c1_c2'] = data['c1'] / data['c2']"
      ],
      "execution_count": 30,
      "outputs": []
    },
    {
      "cell_type": "code",
      "metadata": {
        "colab": {
          "base_uri": "https://localhost:8080/",
          "height": 744
        },
        "id": "AVyRhGhe-_4e",
        "outputId": "c41cd122-4bd4-4473-ca22-f910724eb352"
      },
      "source": [
        "sns.pairplot(data)"
      ],
      "execution_count": 31,
      "outputs": [
        {
          "output_type": "execute_result",
          "data": {
            "text/plain": [
              "<seaborn.axisgrid.PairGrid at 0x7f70c2d6f810>"
            ]
          },
          "metadata": {
            "tags": []
          },
          "execution_count": 31
        },
        {
          "output_type": "display_data",
          "data": {
            "image/png": "[encoded data removed]",
            "text/plain": [
              "<Figure size 720x720 with 20 Axes>"
            ]
          },
          "metadata": {
            "tags": [],
            "needs_background": "light"
          }
        }
      ]
    },
    {
      "cell_type": "markdown",
      "metadata": {
        "id": "VSEh4arL_ELZ"
      },
      "source": [
        "Бинарные признаки, поэтому скорее всего тут сигмоида."
      ]
    },
    {
      "cell_type": "markdown",
      "metadata": {
        "id": "8u1L3_Lv9752"
      },
      "source": [
        "# Задание\n",
        "\n",
        "## Вопросы\n",
        "- Проверить с использованием двухфакторного дисперсионного анализа, влияет ли переменная C1 на переменную f в данной линейной модели?\n",
        "- Проверить с использованием двухфакторного дисперсионного анализа, влияет ли переменная C2 на переменную f в данной линейной модели?\n",
        "- Проверить с использованием двухфакторного дисперсионного анализа, влияет ли межфакторное взаимодействие на переменную f в данной линейной модели?"
      ]
    },
    {
      "cell_type": "code",
      "metadata": {
        "colab": {
          "base_uri": "https://localhost:8080/",
          "height": 494
        },
        "id": "9aj48pQW9e_w",
        "outputId": "6205eadf-e49f-404c-b28a-1b7400530cf4"
      },
      "source": [
        "linear_model = sm.ols('f ~ c1 + c2 + c1 : c2', data=data).fit()\n",
        "linear_model.summary()"
      ],
      "execution_count": 41,
      "outputs": [
        {
          "output_type": "execute_result",
          "data": {
            "text/html": [
              "<table class=\"simpletable\">\n",
              "<caption>OLS Regression Results</caption>\n",
              "<tr>\n",
              "  <th>Dep. Variable:</th>            <td>f</td>        <th>  R-squared:         </th> <td>   0.877</td>\n",
              "</tr>\n",
              "<tr>\n",
              "  <th>Model:</th>                   <td>OLS</td>       <th>  Adj. R-squared:    </th> <td>   0.876</td>\n",
              "</tr>\n",
              "<tr>\n",
              "  <th>Method:</th>             <td>Least Squares</td>  <th>  F-statistic:       </th> <td>   2360.</td>\n",
              "</tr>\n",
              "<tr>\n",
              "  <th>Date:</th>             <td>Tue, 16 Mar 2021</td> <th>  Prob (F-statistic):</th>  <td>  0.00</td> \n",
              "</tr>\n",
              "<tr>\n",
              "  <th>Time:</th>                 <td>17:31:54</td>     <th>  Log-Likelihood:    </th> <td> -1433.7</td>\n",
              "</tr>\n",
              "<tr>\n",
              "  <th>No. Observations:</th>      <td>  1000</td>      <th>  AIC:               </th> <td>   2875.</td>\n",
              "</tr>\n",
              "<tr>\n",
              "  <th>Df Residuals:</th>          <td>   996</td>      <th>  BIC:               </th> <td>   2895.</td>\n",
              "</tr>\n",
              "<tr>\n",
              "  <th>Df Model:</th>              <td>     3</td>      <th>                     </th>     <td> </td>   \n",
              "</tr>\n",
              "<tr>\n",
              "  <th>Covariance Type:</th>      <td>nonrobust</td>    <th>                     </th>     <td> </td>   \n",
              "</tr>\n",
              "</table>\n",
              "<table class=\"simpletable\">\n",
              "<tr>\n",
              "      <td></td>         <th>coef</th>     <th>std err</th>      <th>t</th>      <th>P>|t|</th>  <th>[0.025</th>    <th>0.975]</th>  \n",
              "</tr>\n",
              "<tr>\n",
              "  <th>Intercept</th> <td>   -0.0782</td> <td>    0.186</td> <td>   -0.421</td> <td> 0.674</td> <td>   -0.443</td> <td>    0.286</td>\n",
              "</tr>\n",
              "<tr>\n",
              "  <th>c1</th>        <td>   -0.9857</td> <td>    0.051</td> <td>  -19.306</td> <td> 0.000</td> <td>   -1.086</td> <td>   -0.886</td>\n",
              "</tr>\n",
              "<tr>\n",
              "  <th>c2</th>        <td>   -0.0956</td> <td>    0.058</td> <td>   -1.657</td> <td> 0.098</td> <td>   -0.209</td> <td>    0.018</td>\n",
              "</tr>\n",
              "<tr>\n",
              "  <th>c1:c2</th>     <td>    0.6195</td> <td>    0.016</td> <td>   38.466</td> <td> 0.000</td> <td>    0.588</td> <td>    0.651</td>\n",
              "</tr>\n",
              "</table>\n",
              "<table class=\"simpletable\">\n",
              "<tr>\n",
              "  <th>Omnibus:</th>       <td> 2.617</td> <th>  Durbin-Watson:     </th> <td>   1.983</td>\n",
              "</tr>\n",
              "<tr>\n",
              "  <th>Prob(Omnibus):</th> <td> 0.270</td> <th>  Jarque-Bera (JB):  </th> <td>   2.670</td>\n",
              "</tr>\n",
              "<tr>\n",
              "  <th>Skew:</th>          <td>-0.053</td> <th>  Prob(JB):          </th> <td>   0.263</td>\n",
              "</tr>\n",
              "<tr>\n",
              "  <th>Kurtosis:</th>      <td> 3.230</td> <th>  Cond. No.          </th> <td>    74.3</td>\n",
              "</tr>\n",
              "</table><br/><br/>Warnings:<br/>[1] Standard Errors assume that the covariance matrix of the errors is correctly specified."
            ],
            "text/plain": [
              "<class 'statsmodels.iolib.summary.Summary'>\n",
              "\"\"\"\n",
              "                            OLS Regression Results                            \n",
              "==============================================================================\n",
              "Dep. Variable:                      f   R-squared:                       0.877\n",
              "Model:                            OLS   Adj. R-squared:                  0.876\n",
              "Method:                 Least Squares   F-statistic:                     2360.\n",
              "Date:                Tue, 16 Mar 2021   Prob (F-statistic):               0.00\n",
              "Time:                        17:31:54   Log-Likelihood:                -1433.7\n",
              "No. Observations:                1000   AIC:                             2875.\n",
              "Df Residuals:                     996   BIC:                             2895.\n",
              "Df Model:                           3                                         \n",
              "Covariance Type:            nonrobust                                         \n",
              "==============================================================================\n",
              "                 coef    std err          t      P>|t|      [0.025      0.975]\n",
              "------------------------------------------------------------------------------\n",
              "Intercept     -0.0782      0.186     -0.421      0.674      -0.443       0.286\n",
              "c1            -0.9857      0.051    -19.306      0.000      -1.086      -0.886\n",
              "c2            -0.0956      0.058     -1.657      0.098      -0.209       0.018\n",
              "c1:c2          0.6195      0.016     38.466      0.000       0.588       0.651\n",
              "==============================================================================\n",
              "Omnibus:                        2.617   Durbin-Watson:                   1.983\n",
              "Prob(Omnibus):                  0.270   Jarque-Bera (JB):                2.670\n",
              "Skew:                          -0.053   Prob(JB):                        0.263\n",
              "Kurtosis:                       3.230   Cond. No.                         74.3\n",
              "==============================================================================\n",
              "\n",
              "Warnings:\n",
              "[1] Standard Errors assume that the covariance matrix of the errors is correctly specified.\n",
              "\"\"\""
            ]
          },
          "metadata": {
            "tags": []
          },
          "execution_count": 41
        }
      ]
    },
    {
      "cell_type": "code",
      "metadata": {
        "colab": {
          "base_uri": "https://localhost:8080/"
        },
        "id": "wYgFfJvHENlK",
        "outputId": "5970091d-b182-4d6a-c949-5412711dec3d"
      },
      "source": [
        "linear_model.f_test('c1 = c2 = c1:c2 = 0')"
      ],
      "execution_count": 43,
      "outputs": [
        {
          "output_type": "execute_result",
          "data": {
            "text/plain": [
              "<class 'statsmodels.stats.contrast.ContrastResults'>\n",
              "<F test: F=array([[2360.33120902]]), p=0.0, df_denom=996, df_num=3>"
            ]
          },
          "metadata": {
            "tags": []
          },
          "execution_count": 43
        }
      ]
    },
    {
      "cell_type": "code",
      "metadata": {
        "id": "xXTTeahjIiKy"
      },
      "source": [
        ""
      ],
      "execution_count": null,
      "outputs": []
    }
  ]
}