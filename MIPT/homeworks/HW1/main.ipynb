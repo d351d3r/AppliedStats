{
  "nbformat": 4,
  "nbformat_minor": 0,
  "metadata": {
    "colab": {
      "name": "Applied_stats_01.ipynb",
      "provenance": [],
      "collapsed_sections": []
    },
    "kernelspec": {
      "name": "python3",
      "display_name": "Python 3"
    }
  },
  "cells": [
    {
      "cell_type": "code",
      "metadata": {
        "colab": {
          "base_uri": "https://localhost:8080/"
        },
        "id": "wptDH55nn6-5",
        "outputId": "8fa8f34d-1c4b-469c-ea55-d3a37a1bd1fe"
      },
      "source": [
        "!wget https://raw.githubusercontent.com/Intelligent-Systems-Phystech/psad/master/hometask/sem1/z.csv -O ./data/z.csv"
      ],
      "execution_count": 4,
      "outputs": [
        {
          "output_type": "stream",
          "text": [
            "--2021-03-01 14:29:33--  https://raw.githubusercontent.com/Intelligent-Systems-Phystech/psad/master/hometask/sem1/z.csv\n",
            "Resolving raw.githubusercontent.com (raw.githubusercontent.com)... 185.199.108.133, 185.199.109.133, 185.199.110.133, ...\n",
            "Connecting to raw.githubusercontent.com (raw.githubusercontent.com)|185.199.108.133|:443... connected.\n",
            "HTTP request sent, awaiting response... 200 OK\n",
            "Length: 256186 (250K) [text/plain]\n",
            "Saving to: ‘./data/z.csv’\n",
            "\n",
            "\r./data/z.csv          0%[                    ]       0  --.-KB/s               \r./data/z.csv        100%[===================>] 250.18K  --.-KB/s    in 0.03s   \n",
            "\n",
            "2021-03-01 14:29:33 (9.28 MB/s) - ‘./data/z.csv’ saved [256186/256186]\n",
            "\n"
          ],
          "name": "stdout"
        }
      ]
    },
    {
      "cell_type": "code",
      "metadata": {
        "id": "BDk8avUdoIM0"
      },
      "source": [
        "import pandas as pd\n",
        "import numpy as np"
      ],
      "execution_count": 5,
      "outputs": []
    },
    {
      "cell_type": "code",
      "metadata": {
        "id": "BKf4xCIJoX_v"
      },
      "source": [
        "data = pd.read_csv('data/z.csv', header=None)"
      ],
      "execution_count": 6,
      "outputs": []
    },
    {
      "cell_type": "code",
      "metadata": {
        "colab": {
          "base_uri": "https://localhost:8080/"
        },
        "id": "QOT00U1eocP5",
        "outputId": "41533a6e-e91b-4ff2-c3f1-c12104ac6b78"
      },
      "source": [
        "data[0].head()"
      ],
      "execution_count": 7,
      "outputs": [
        {
          "output_type": "execute_result",
          "data": {
            "text/plain": [
              "0     -6.0\n",
              "1    229.0\n",
              "2    105.0\n",
              "3    200.0\n",
              "4   -141.0\n",
              "Name: 0, dtype: float64"
            ]
          },
          "metadata": {
            "tags": []
          },
          "execution_count": 7
        }
      ]
    },
    {
      "cell_type": "code",
      "metadata": {
        "colab": {
          "base_uri": "https://localhost:8080/"
        },
        "id": "LwcoMwGro6PS",
        "outputId": "f9827691-ec5e-41e3-8d94-8c9dce59d02f"
      },
      "source": [
        "print(f'mean = {data[0].mean():.3f}')"
      ],
      "execution_count": 8,
      "outputs": [
        {
          "output_type": "stream",
          "text": [
            "mean = -0.081\n"
          ],
          "name": "stdout"
        }
      ]
    },
    {
      "cell_type": "code",
      "metadata": {
        "colab": {
          "base_uri": "https://localhost:8080/"
        },
        "id": "ighNYVQgpfTL",
        "outputId": "da7a2137-7a82-4b66-c6b0-ead952833236"
      },
      "source": [
        "print(f\"median = {data[0].median():.3f}\")"
      ],
      "execution_count": 9,
      "outputs": [
        {
          "output_type": "stream",
          "text": [
            "median = -1.000\n"
          ],
          "name": "stdout"
        }
      ]
    },
    {
      "cell_type": "code",
      "metadata": {
        "colab": {
          "base_uri": "https://localhost:8080/"
        },
        "id": "XNgtZ-rdpx9A",
        "outputId": "6b087b71-953e-4678-a977-ddbc18d5a93e"
      },
      "source": [
        "print(f\"std = {data[0].std(ddof=0):.3f}\")"
      ],
      "execution_count": 10,
      "outputs": [
        {
          "output_type": "stream",
          "text": [
            "std = 144.361\n"
          ],
          "name": "stdout"
        }
      ]
    },
    {
      "cell_type": "code",
      "metadata": {
        "colab": {
          "base_uri": "https://localhost:8080/"
        },
        "id": "38ztz-FCqVc2",
        "outputId": "73ee2db4-8b08-416a-ac12-25b8cf751b75"
      },
      "source": [
        "print(f\"median for non-negative integers = {data[data[0] >= 0][0].median():.3f}\")"
      ],
      "execution_count": 11,
      "outputs": [
        {
          "output_type": "stream",
          "text": [
            "median for non-negative integers = 124.000\n"
          ],
          "name": "stdout"
        }
      ]
    },
    {
      "cell_type": "code",
      "metadata": {
        "colab": {
          "base_uri": "https://localhost:8080/"
        },
        "id": "LHa2rSGxqEW0",
        "outputId": "b5acc987-f9b3-4a36-99a1-3a5f1803bf68"
      },
      "source": [
        "print(f\"max moda = {data[0].mode().max():.3f}\")\n",
        "print(f\"count of modas = {len(data[0].mode())}\")"
      ],
      "execution_count": 12,
      "outputs": [
        {
          "output_type": "stream",
          "text": [
            "max moda = 243.000\n",
            "count of modas = 6\n"
          ],
          "name": "stdout"
        }
      ]
    },
    {
      "cell_type": "code",
      "metadata": {
        "colab": {
          "base_uri": "https://localhost:8080/"
        },
        "id": "N9MsX0EPtqvX",
        "outputId": "8ce0b037-50df-4168-872e-7038f09bfd39"
      },
      "source": [
        "print(f\"42nd order statistics = {np.partition(data[0].to_numpy(), 42)[:42].max():.3f}\")"
      ],
      "execution_count": 13,
      "outputs": [
        {
          "output_type": "stream",
          "text": [
            "42nd order statistics = -248.000\n"
          ],
          "name": "stdout"
        }
      ]
    },
    {
      "cell_type": "code",
      "metadata": {
        "id": "YS2RCyzHupUU"
      },
      "source": [
        ""
      ],
      "execution_count": null,
      "outputs": []
    }
  ]
}