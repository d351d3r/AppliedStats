{
  "nbformat": 4,
  "nbformat_minor": 0,
  "metadata": {
    "colab": {
      "name": "Applied_stats_04.ipynb",
      "provenance": []
    },
    "kernelspec": {
      "name": "python3",
      "display_name": "Python 3"
    }
  },
  "cells": [
    {
      "cell_type": "markdown",
      "metadata": {
        "id": "cqd_uVoC9ApM"
      },
      "source": [
        "# Загрузка датасета и первый взгляд"
      ]
    },
    {
      "cell_type": "code",
      "metadata": {
        "colab": {
          "base_uri": "https://localhost:8080/"
        },
        "id": "n8NPeGg96SFo",
        "outputId": "4fef6878-8271-461b-dcf1-9a0f6328616b"
      },
      "source": [
        "!mkdir data\n",
        "!wget https://raw.githubusercontent.com/Intelligent-Systems-Phystech/psad/master/hometask/sem4/zhestov.ea%40phystech.edu.csv -O data/zhestov.ea@phystech.edu.csv"
      ],
      "execution_count": 1,
      "outputs": [
        {
          "output_type": "stream",
          "text": [
            "--2021-03-04 15:46:09--  https://raw.githubusercontent.com/Intelligent-Systems-Phystech/psad/master/hometask/sem4/zhestov.ea%40phystech.edu.csv\n",
            "Resolving raw.githubusercontent.com (raw.githubusercontent.com)... 185.199.110.133, 185.199.109.133, 185.199.111.133, ...\n",
            "Connecting to raw.githubusercontent.com (raw.githubusercontent.com)|185.199.110.133|:443... connected.\n",
            "HTTP request sent, awaiting response... 200 OK\n",
            "Length: 6132 (6.0K) [text/plain]\n",
            "Saving to: ‘data/zhestov.ea@phystech.edu.csv’\n",
            "\n",
            "data/zhestov.ea@phy 100%[===================>]   5.99K  --.-KB/s    in 0s      \n",
            "\n",
            "2021-03-04 15:46:10 (50.1 MB/s) - ‘data/zhestov.ea@phystech.edu.csv’ saved [6132/6132]\n",
            "\n"
          ],
          "name": "stdout"
        }
      ]
    },
    {
      "cell_type": "code",
      "metadata": {
        "id": "XoFm5fW86t76"
      },
      "source": [
        "import pandas as pd\n",
        "from scipy import stats as st"
      ],
      "execution_count": 2,
      "outputs": []
    },
    {
      "cell_type": "code",
      "metadata": {
        "id": "8PQPktfS6xtS"
      },
      "source": [
        "data = pd.read_csv('/content/data/zhestov.ea@phystech.edu.csv', header=None)"
      ],
      "execution_count": 3,
      "outputs": []
    },
    {
      "cell_type": "code",
      "metadata": {
        "colab": {
          "base_uri": "https://localhost:8080/",
          "height": 206
        },
        "id": "Z_ve_NlV64hB",
        "outputId": "4832f42f-4224-4aef-da11-b6465d6ca836"
      },
      "source": [
        "data.head()"
      ],
      "execution_count": 4,
      "outputs": [
        {
          "output_type": "execute_result",
          "data": {
            "text/html": [
              "<div>\n",
              "<style scoped>\n",
              "    .dataframe tbody tr th:only-of-type {\n",
              "        vertical-align: middle;\n",
              "    }\n",
              "\n",
              "    .dataframe tbody tr th {\n",
              "        vertical-align: top;\n",
              "    }\n",
              "\n",
              "    .dataframe thead th {\n",
              "        text-align: right;\n",
              "    }\n",
              "</style>\n",
              "<table border=\"1\" class=\"dataframe\">\n",
              "  <thead>\n",
              "    <tr style=\"text-align: right;\">\n",
              "      <th></th>\n",
              "      <th>0</th>\n",
              "      <th>1</th>\n",
              "      <th>2</th>\n",
              "      <th>3</th>\n",
              "      <th>4</th>\n",
              "      <th>5</th>\n",
              "      <th>6</th>\n",
              "      <th>7</th>\n",
              "    </tr>\n",
              "  </thead>\n",
              "  <tbody>\n",
              "    <tr>\n",
              "      <th>0</th>\n",
              "      <td>-1.363188</td>\n",
              "      <td>0.021371</td>\n",
              "      <td>0.320485</td>\n",
              "      <td>0.655761</td>\n",
              "      <td>0.170489</td>\n",
              "      <td>-1.668670</td>\n",
              "      <td>-0.271347</td>\n",
              "      <td>0.517328</td>\n",
              "    </tr>\n",
              "    <tr>\n",
              "      <th>1</th>\n",
              "      <td>-0.372176</td>\n",
              "      <td>-0.932204</td>\n",
              "      <td>-0.371692</td>\n",
              "      <td>-0.666623</td>\n",
              "      <td>-1.939313</td>\n",
              "      <td>-0.860681</td>\n",
              "      <td>0.267452</td>\n",
              "      <td>-0.052678</td>\n",
              "    </tr>\n",
              "    <tr>\n",
              "      <th>2</th>\n",
              "      <td>-1.154241</td>\n",
              "      <td>0.086681</td>\n",
              "      <td>-0.663427</td>\n",
              "      <td>0.578648</td>\n",
              "      <td>-0.911634</td>\n",
              "      <td>-0.406784</td>\n",
              "      <td>-1.366443</td>\n",
              "      <td>0.114200</td>\n",
              "    </tr>\n",
              "    <tr>\n",
              "      <th>3</th>\n",
              "      <td>-1.494851</td>\n",
              "      <td>-2.115424</td>\n",
              "      <td>-0.573977</td>\n",
              "      <td>0.354928</td>\n",
              "      <td>-0.624171</td>\n",
              "      <td>-0.934268</td>\n",
              "      <td>0.188995</td>\n",
              "      <td>0.332669</td>\n",
              "    </tr>\n",
              "    <tr>\n",
              "      <th>4</th>\n",
              "      <td>-1.132629</td>\n",
              "      <td>1.256545</td>\n",
              "      <td>-0.228378</td>\n",
              "      <td>1.712289</td>\n",
              "      <td>-2.842673</td>\n",
              "      <td>0.665167</td>\n",
              "      <td>1.232858</td>\n",
              "      <td>0.481192</td>\n",
              "    </tr>\n",
              "  </tbody>\n",
              "</table>\n",
              "</div>"
            ],
            "text/plain": [
              "          0         1         2  ...         5         6         7\n",
              "0 -1.363188  0.021371  0.320485  ... -1.668670 -0.271347  0.517328\n",
              "1 -0.372176 -0.932204 -0.371692  ... -0.860681  0.267452 -0.052678\n",
              "2 -1.154241  0.086681 -0.663427  ... -0.406784 -1.366443  0.114200\n",
              "3 -1.494851 -2.115424 -0.573977  ... -0.934268  0.188995  0.332669\n",
              "4 -1.132629  1.256545 -0.228378  ...  0.665167  1.232858  0.481192\n",
              "\n",
              "[5 rows x 8 columns]"
            ]
          },
          "metadata": {
            "tags": []
          },
          "execution_count": 4
        }
      ]
    },
    {
      "cell_type": "code",
      "metadata": {
        "colab": {
          "base_uri": "https://localhost:8080/",
          "height": 300
        },
        "id": "0iNTY79vAwMS",
        "outputId": "32094933-fef7-404d-bc2f-9ee05e559cf1"
      },
      "source": [
        "data.describe()"
      ],
      "execution_count": 5,
      "outputs": [
        {
          "output_type": "execute_result",
          "data": {
            "text/html": [
              "<div>\n",
              "<style scoped>\n",
              "    .dataframe tbody tr th:only-of-type {\n",
              "        vertical-align: middle;\n",
              "    }\n",
              "\n",
              "    .dataframe tbody tr th {\n",
              "        vertical-align: top;\n",
              "    }\n",
              "\n",
              "    .dataframe thead th {\n",
              "        text-align: right;\n",
              "    }\n",
              "</style>\n",
              "<table border=\"1\" class=\"dataframe\">\n",
              "  <thead>\n",
              "    <tr style=\"text-align: right;\">\n",
              "      <th></th>\n",
              "      <th>0</th>\n",
              "      <th>1</th>\n",
              "      <th>2</th>\n",
              "      <th>3</th>\n",
              "      <th>4</th>\n",
              "      <th>5</th>\n",
              "      <th>6</th>\n",
              "      <th>7</th>\n",
              "    </tr>\n",
              "  </thead>\n",
              "  <tbody>\n",
              "    <tr>\n",
              "      <th>count</th>\n",
              "      <td>30.000000</td>\n",
              "      <td>30.000000</td>\n",
              "      <td>30.000000</td>\n",
              "      <td>30.000000</td>\n",
              "      <td>30.000000</td>\n",
              "      <td>30.000000</td>\n",
              "      <td>30.000000</td>\n",
              "      <td>30.000000</td>\n",
              "    </tr>\n",
              "    <tr>\n",
              "      <th>mean</th>\n",
              "      <td>-0.302123</td>\n",
              "      <td>-0.497873</td>\n",
              "      <td>-0.667462</td>\n",
              "      <td>0.792811</td>\n",
              "      <td>-0.519058</td>\n",
              "      <td>-0.425253</td>\n",
              "      <td>-0.438858</td>\n",
              "      <td>0.444914</td>\n",
              "    </tr>\n",
              "    <tr>\n",
              "      <th>std</th>\n",
              "      <td>1.062679</td>\n",
              "      <td>0.937303</td>\n",
              "      <td>1.104621</td>\n",
              "      <td>0.885732</td>\n",
              "      <td>1.137562</td>\n",
              "      <td>1.059801</td>\n",
              "      <td>1.083716</td>\n",
              "      <td>0.860677</td>\n",
              "    </tr>\n",
              "    <tr>\n",
              "      <th>min</th>\n",
              "      <td>-2.146883</td>\n",
              "      <td>-2.115424</td>\n",
              "      <td>-2.720480</td>\n",
              "      <td>-1.140923</td>\n",
              "      <td>-3.021317</td>\n",
              "      <td>-2.712613</td>\n",
              "      <td>-2.351574</td>\n",
              "      <td>-1.983966</td>\n",
              "    </tr>\n",
              "    <tr>\n",
              "      <th>25%</th>\n",
              "      <td>-1.059673</td>\n",
              "      <td>-1.340181</td>\n",
              "      <td>-1.124838</td>\n",
              "      <td>0.324511</td>\n",
              "      <td>-1.070533</td>\n",
              "      <td>-1.192344</td>\n",
              "      <td>-0.925668</td>\n",
              "      <td>0.110411</td>\n",
              "    </tr>\n",
              "    <tr>\n",
              "      <th>50%</th>\n",
              "      <td>-0.444970</td>\n",
              "      <td>-0.438975</td>\n",
              "      <td>-0.618702</td>\n",
              "      <td>0.704028</td>\n",
              "      <td>-0.545497</td>\n",
              "      <td>-0.481194</td>\n",
              "      <td>-0.476070</td>\n",
              "      <td>0.498146</td>\n",
              "    </tr>\n",
              "    <tr>\n",
              "      <th>75%</th>\n",
              "      <td>0.292121</td>\n",
              "      <td>0.087947</td>\n",
              "      <td>-0.187725</td>\n",
              "      <td>1.205233</td>\n",
              "      <td>0.501332</td>\n",
              "      <td>0.533150</td>\n",
              "      <td>0.247838</td>\n",
              "      <td>0.993862</td>\n",
              "    </tr>\n",
              "    <tr>\n",
              "      <th>max</th>\n",
              "      <td>2.568914</td>\n",
              "      <td>1.256545</td>\n",
              "      <td>2.127354</td>\n",
              "      <td>2.682470</td>\n",
              "      <td>1.095461</td>\n",
              "      <td>1.602156</td>\n",
              "      <td>1.862021</td>\n",
              "      <td>2.487462</td>\n",
              "    </tr>\n",
              "  </tbody>\n",
              "</table>\n",
              "</div>"
            ],
            "text/plain": [
              "               0          1          2  ...          5          6          7\n",
              "count  30.000000  30.000000  30.000000  ...  30.000000  30.000000  30.000000\n",
              "mean   -0.302123  -0.497873  -0.667462  ...  -0.425253  -0.438858   0.444914\n",
              "std     1.062679   0.937303   1.104621  ...   1.059801   1.083716   0.860677\n",
              "min    -2.146883  -2.115424  -2.720480  ...  -2.712613  -2.351574  -1.983966\n",
              "25%    -1.059673  -1.340181  -1.124838  ...  -1.192344  -0.925668   0.110411\n",
              "50%    -0.444970  -0.438975  -0.618702  ...  -0.481194  -0.476070   0.498146\n",
              "75%     0.292121   0.087947  -0.187725  ...   0.533150   0.247838   0.993862\n",
              "max     2.568914   1.256545   2.127354  ...   1.602156   1.862021   2.487462\n",
              "\n",
              "[8 rows x 8 columns]"
            ]
          },
          "metadata": {
            "tags": []
          },
          "execution_count": 5
        }
      ]
    },
    {
      "cell_type": "code",
      "metadata": {
        "colab": {
          "base_uri": "https://localhost:8080/"
        },
        "id": "teDuIyb5EEv0",
        "outputId": "7e797c21-f66d-4114-a22e-83add4003d1a"
      },
      "source": [
        "data.shape"
      ],
      "execution_count": 21,
      "outputs": [
        {
          "output_type": "execute_result",
          "data": {
            "text/plain": [
              "(30, 8)"
            ]
          },
          "metadata": {
            "tags": []
          },
          "execution_count": 21
        }
      ]
    },
    {
      "cell_type": "markdown",
      "metadata": {
        "id": "YPbLKX3l9JTs"
      },
      "source": [
        "# Задание"
      ]
    },
    {
      "cell_type": "markdown",
      "metadata": {
        "id": "kQcI_tFl7f0c"
      },
      "source": [
        "## Вопрос 1\n",
        "\n",
        "Воспользуемся t-критерем о сравнении средних для всех пар из столбцов выборки. Для какого количества пар из столбцов отвергается гипотеза о совпадении среднего?"
      ]
    },
    {
      "cell_type": "code",
      "metadata": {
        "id": "cehaxVLB66AV"
      },
      "source": [
        "from itertools import combinations"
      ],
      "execution_count": 6,
      "outputs": []
    },
    {
      "cell_type": "code",
      "metadata": {
        "id": "DG6xXggiA7-Z"
      },
      "source": [
        "def pairwise_ttest(data: pd.DataFrame, alpha: float = 0.05) -> int:\n",
        "    \"\"\"Returns count of pairwise columns with different means and its pvals.\"\"\"\n",
        "    cols = 0\n",
        "    pvals = []\n",
        "\n",
        "    for col1, col2 in combinations(data.columns, 2):\n",
        "        pvalue = st.ttest_ind(data[col1], data[col2])[1]\n",
        "        pvals.append(pvalue)\n",
        "        if pvalue <= 0.05:\n",
        "            cols += 1\n",
        "    return cols, pvals"
      ],
      "execution_count": 36,
      "outputs": []
    },
    {
      "cell_type": "code",
      "metadata": {
        "colab": {
          "base_uri": "https://localhost:8080/"
        },
        "id": "-7_DEUnfBq32",
        "outputId": "0a32efe7-022b-406c-eaaa-64b12e5fa1ab"
      },
      "source": [
        "print(f'Для {pairwise_ttest(data)[0]} пар')"
      ],
      "execution_count": 37,
      "outputs": [
        {
          "output_type": "stream",
          "text": [
            "Для 12 пар.\n"
          ],
          "name": "stdout"
        }
      ]
    },
    {
      "cell_type": "markdown",
      "metadata": {
        "id": "GZLzt44MEcDl"
      },
      "source": [
        "## Вопрос 2\n",
        "Значение уровня значимости при использовании поправки Бонферрони ($\\alpha=0.05$)."
      ]
    },
    {
      "cell_type": "markdown",
      "metadata": {
        "id": "ixa33M5xFhrU"
      },
      "source": [
        "О, я недавно написал Холма-Бонферрони сам на другом курсе..."
      ]
    },
    {
      "cell_type": "code",
      "metadata": {
        "id": "6lkpRS7yEAbC"
      },
      "source": [
        "from statsmodels.stats.multitest import multipletests"
      ],
      "execution_count": 35,
      "outputs": []
    },
    {
      "cell_type": "code",
      "metadata": {
        "colab": {
          "base_uri": "https://localhost:8080/"
        },
        "id": "uku3p69HKyO_",
        "outputId": "b4805ee6-0bd2-4b42-cf00-e9580af17226"
      },
      "source": [
        "pvals = pairwise_ttest(data)[1]\n",
        "\n",
        "p_new = multipletests(pvals, alpha=0.05, method='bonferroni')[-1]\n",
        "print(f'Уровень значимости = {p_new:0.3f}')"
      ],
      "execution_count": 44,
      "outputs": [
        {
          "output_type": "stream",
          "text": [
            "Уровень значимости = 0.002\n"
          ],
          "name": "stdout"
        }
      ]
    },
    {
      "cell_type": "markdown",
      "metadata": {
        "id": "QyoNFNAwMBfz"
      },
      "source": [
        "## Вопрос 3\n",
        "Для какого количества пар из столбцов отвергается гипотеза о совпадении среднего при использовании поправки Бонферрони?"
      ]
    },
    {
      "cell_type": "code",
      "metadata": {
        "colab": {
          "base_uri": "https://localhost:8080/"
        },
        "id": "diofX8ZGLUJP",
        "outputId": "1f580d77-fbc6-4ae6-80f4-cf87c7165983"
      },
      "source": [
        "pvals = pairwise_ttest(data)[1]\n",
        "\n",
        "rejected = multipletests(pvals, alpha=0.05, method='bonferroni')[0].sum()\n",
        "print(f'Отвергли для {rejected} пар столбцов')"
      ],
      "execution_count": 45,
      "outputs": [
        {
          "output_type": "stream",
          "text": [
            "Отвергли для 11 пар столбцов\n"
          ],
          "name": "stdout"
        }
      ]
    },
    {
      "cell_type": "markdown",
      "metadata": {
        "id": "aw-kABfuMb9a"
      },
      "source": [
        "## Вопрос 4\n",
        "Для какого количества пар из столбцов отвергается гипотеза о совпадении среднего при использовании метода Холма?"
      ]
    },
    {
      "cell_type": "code",
      "metadata": {
        "colab": {
          "base_uri": "https://localhost:8080/"
        },
        "id": "FjF2tyD1Ma_f",
        "outputId": "951f0837-0af0-4c77-af71-f37039fe3285"
      },
      "source": [
        "pvals = pairwise_ttest(data)[1]\n",
        "\n",
        "rejected = multipletests(pvals, alpha=0.05, method='holm')[0].sum()\n",
        "print(f'Отвергли для {rejected} пар столбцов')"
      ],
      "execution_count": 61,
      "outputs": [
        {
          "output_type": "stream",
          "text": [
            "Отвергли для 11 пар столбцов\n"
          ],
          "name": "stdout"
        }
      ]
    },
    {
      "cell_type": "markdown",
      "metadata": {
        "id": "2cmEuTnDM6Oa"
      },
      "source": [
        "## Вопрос 5\n",
        "Оценка $\\mu_0$ по методу Шведера-Спьётволла ($\\lambda = 0.5$)"
      ]
    },
    {
      "cell_type": "code",
      "metadata": {
        "id": "EoDpHitUM2Xf"
      },
      "source": [
        "def shveder_spjetvoll(p_values: list, lambd_s: float = 0.5) -> float:\n",
        "    len_bigger_lambd = len(list(filter(lambda x: x > lambd_s, p_values)))\n",
        "    return (1 / (1 - lambd_s) * (1 + len_bigger_lambd))"
      ],
      "execution_count": 66,
      "outputs": []
    },
    {
      "cell_type": "code",
      "metadata": {
        "colab": {
          "base_uri": "https://localhost:8080/"
        },
        "id": "D8bq4hMhOEXt",
        "outputId": "f0805bc6-6ab0-4ed1-a944-bcb10a878609"
      },
      "source": [
        "pvals = pairwise_ttest(data)[1]\n",
        "\n",
        "print(f'mu_0 = {shveder_spjetvoll(pvals)}')"
      ],
      "execution_count": 67,
      "outputs": [
        {
          "output_type": "stream",
          "text": [
            "mu_0 = 22.0\n"
          ],
          "name": "stdout"
        }
      ]
    }
  ]
}