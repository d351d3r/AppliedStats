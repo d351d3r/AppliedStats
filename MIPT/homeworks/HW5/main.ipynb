{
  "nbformat": 4,
  "nbformat_minor": 0,
  "metadata": {
    "colab": {
      "name": "Applied_Stats_05.ipynb",
      "provenance": []
    },
    "kernelspec": {
      "name": "python3",
      "display_name": "Python 3"
    }
  },
  "cells": [
    {
      "cell_type": "markdown",
      "metadata": {
        "id": "1oVKtXaiqEzO"
      },
      "source": [
        "# Загрузка датасета и первый взгляд"
      ]
    },
    {
      "cell_type": "code",
      "metadata": {
        "colab": {
          "base_uri": "https://localhost:8080/"
        },
        "id": "fst6BRKilaeD",
        "outputId": "644ba6d2-af78-49fd-d899-0ddfcace1502"
      },
      "source": [
        "!mkdir data\n",
        "!wget https://raw.githubusercontent.com/Intelligent-Systems-Phystech/psad/master/hometask/sem5/zhestov.ea%40phystech.edu.csv -O data/data.csv"
      ],
      "execution_count": 1,
      "outputs": [
        {
          "output_type": "stream",
          "text": [
            "--2021-03-09 15:24:17--  https://raw.githubusercontent.com/Intelligent-Systems-Phystech/psad/master/hometask/sem5/zhestov.ea%40phystech.edu.csv\n",
            "Resolving raw.githubusercontent.com (raw.githubusercontent.com)... 185.199.108.133, 185.199.109.133, 185.199.110.133, ...\n",
            "Connecting to raw.githubusercontent.com (raw.githubusercontent.com)|185.199.108.133|:443... connected.\n",
            "HTTP request sent, awaiting response... 200 OK\n",
            "Length: 5103 (5.0K) [text/plain]\n",
            "Saving to: ‘data/data.csv’\n",
            "\n",
            "data/data.csv       100%[===================>]   4.98K  --.-KB/s    in 0s      \n",
            "\n",
            "2021-03-09 15:24:17 (58.1 MB/s) - ‘data/data.csv’ saved [5103/5103]\n",
            "\n"
          ],
          "name": "stdout"
        }
      ]
    },
    {
      "cell_type": "code",
      "metadata": {
        "id": "v_73kanDlqJs"
      },
      "source": [
        "import pandas as pd\n",
        "import numpy as np\n",
        "import seaborn as sns\n",
        "import scipy.stats as st"
      ],
      "execution_count": 20,
      "outputs": []
    },
    {
      "cell_type": "code",
      "metadata": {
        "id": "4Qwb_DIZl3Bm"
      },
      "source": [
        "data = pd.read_csv('data/data.csv', header=None)"
      ],
      "execution_count": 5,
      "outputs": []
    },
    {
      "cell_type": "code",
      "metadata": {
        "colab": {
          "base_uri": "https://localhost:8080/",
          "height": 206
        },
        "id": "mBut2xlOl9F5",
        "outputId": "e9df2285-cc9a-453e-c236-0854755a59d8"
      },
      "source": [
        "data.head()"
      ],
      "execution_count": 6,
      "outputs": [
        {
          "output_type": "execute_result",
          "data": {
            "text/html": [
              "<div>\n",
              "<style scoped>\n",
              "    .dataframe tbody tr th:only-of-type {\n",
              "        vertical-align: middle;\n",
              "    }\n",
              "\n",
              "    .dataframe tbody tr th {\n",
              "        vertical-align: top;\n",
              "    }\n",
              "\n",
              "    .dataframe thead th {\n",
              "        text-align: right;\n",
              "    }\n",
              "</style>\n",
              "<table border=\"1\" class=\"dataframe\">\n",
              "  <thead>\n",
              "    <tr style=\"text-align: right;\">\n",
              "      <th></th>\n",
              "      <th>0</th>\n",
              "      <th>1</th>\n",
              "    </tr>\n",
              "  </thead>\n",
              "  <tbody>\n",
              "    <tr>\n",
              "      <th>0</th>\n",
              "      <td>-1.761398</td>\n",
              "      <td>0.859068</td>\n",
              "    </tr>\n",
              "    <tr>\n",
              "      <th>1</th>\n",
              "      <td>-0.005979</td>\n",
              "      <td>-5.072595</td>\n",
              "    </tr>\n",
              "    <tr>\n",
              "      <th>2</th>\n",
              "      <td>0.091872</td>\n",
              "      <td>-5.450746</td>\n",
              "    </tr>\n",
              "    <tr>\n",
              "      <th>3</th>\n",
              "      <td>0.749937</td>\n",
              "      <td>-9.890471</td>\n",
              "    </tr>\n",
              "    <tr>\n",
              "      <th>4</th>\n",
              "      <td>0.032373</td>\n",
              "      <td>-3.607964</td>\n",
              "    </tr>\n",
              "  </tbody>\n",
              "</table>\n",
              "</div>"
            ],
            "text/plain": [
              "          0         1\n",
              "0 -1.761398  0.859068\n",
              "1 -0.005979 -5.072595\n",
              "2  0.091872 -5.450746\n",
              "3  0.749937 -9.890471\n",
              "4  0.032373 -3.607964"
            ]
          },
          "metadata": {
            "tags": []
          },
          "execution_count": 6
        }
      ]
    },
    {
      "cell_type": "code",
      "metadata": {
        "colab": {
          "base_uri": "https://localhost:8080/",
          "height": 206
        },
        "id": "MQDYfo_UmyoS",
        "outputId": "b788f0a2-b092-44bb-e59d-5636075eee6b"
      },
      "source": [
        "data.tail()"
      ],
      "execution_count": 14,
      "outputs": [
        {
          "output_type": "execute_result",
          "data": {
            "text/html": [
              "<div>\n",
              "<style scoped>\n",
              "    .dataframe tbody tr th:only-of-type {\n",
              "        vertical-align: middle;\n",
              "    }\n",
              "\n",
              "    .dataframe tbody tr th {\n",
              "        vertical-align: top;\n",
              "    }\n",
              "\n",
              "    .dataframe thead th {\n",
              "        text-align: right;\n",
              "    }\n",
              "</style>\n",
              "<table border=\"1\" class=\"dataframe\">\n",
              "  <thead>\n",
              "    <tr style=\"text-align: right;\">\n",
              "      <th></th>\n",
              "      <th>0</th>\n",
              "      <th>1</th>\n",
              "    </tr>\n",
              "  </thead>\n",
              "  <tbody>\n",
              "    <tr>\n",
              "      <th>95</th>\n",
              "      <td>1.457549</td>\n",
              "      <td>-10.068325</td>\n",
              "    </tr>\n",
              "    <tr>\n",
              "      <th>96</th>\n",
              "      <td>0.299191</td>\n",
              "      <td>15.237733</td>\n",
              "    </tr>\n",
              "    <tr>\n",
              "      <th>97</th>\n",
              "      <td>-0.244373</td>\n",
              "      <td>3.869600</td>\n",
              "    </tr>\n",
              "    <tr>\n",
              "      <th>98</th>\n",
              "      <td>0.770442</td>\n",
              "      <td>4.052045</td>\n",
              "    </tr>\n",
              "    <tr>\n",
              "      <th>99</th>\n",
              "      <td>99999.000000</td>\n",
              "      <td>6.523801</td>\n",
              "    </tr>\n",
              "  </tbody>\n",
              "</table>\n",
              "</div>"
            ],
            "text/plain": [
              "               0          1\n",
              "95      1.457549 -10.068325\n",
              "96      0.299191  15.237733\n",
              "97     -0.244373   3.869600\n",
              "98      0.770442   4.052045\n",
              "99  99999.000000   6.523801"
            ]
          },
          "metadata": {
            "tags": []
          },
          "execution_count": 14
        }
      ]
    },
    {
      "cell_type": "code",
      "metadata": {
        "colab": {
          "base_uri": "https://localhost:8080/",
          "height": 300
        },
        "id": "s3jdEODamAqP",
        "outputId": "084058c1-42c8-4908-ed2a-9ab4870fdd8c"
      },
      "source": [
        "data.describe()"
      ],
      "execution_count": 8,
      "outputs": [
        {
          "output_type": "execute_result",
          "data": {
            "text/html": [
              "<div>\n",
              "<style scoped>\n",
              "    .dataframe tbody tr th:only-of-type {\n",
              "        vertical-align: middle;\n",
              "    }\n",
              "\n",
              "    .dataframe tbody tr th {\n",
              "        vertical-align: top;\n",
              "    }\n",
              "\n",
              "    .dataframe thead th {\n",
              "        text-align: right;\n",
              "    }\n",
              "</style>\n",
              "<table border=\"1\" class=\"dataframe\">\n",
              "  <thead>\n",
              "    <tr style=\"text-align: right;\">\n",
              "      <th></th>\n",
              "      <th>0</th>\n",
              "      <th>1</th>\n",
              "    </tr>\n",
              "  </thead>\n",
              "  <tbody>\n",
              "    <tr>\n",
              "      <th>count</th>\n",
              "      <td>100.000000</td>\n",
              "      <td>100.000000</td>\n",
              "    </tr>\n",
              "    <tr>\n",
              "      <th>mean</th>\n",
              "      <td>999.861364</td>\n",
              "      <td>-0.152903</td>\n",
              "    </tr>\n",
              "    <tr>\n",
              "      <th>std</th>\n",
              "      <td>9999.913043</td>\n",
              "      <td>9.088353</td>\n",
              "    </tr>\n",
              "    <tr>\n",
              "      <th>min</th>\n",
              "      <td>-2.902767</td>\n",
              "      <td>-20.321135</td>\n",
              "    </tr>\n",
              "    <tr>\n",
              "      <th>25%</th>\n",
              "      <td>-0.732114</td>\n",
              "      <td>-6.005390</td>\n",
              "    </tr>\n",
              "    <tr>\n",
              "      <th>50%</th>\n",
              "      <td>-0.032199</td>\n",
              "      <td>-0.174413</td>\n",
              "    </tr>\n",
              "    <tr>\n",
              "      <th>75%</th>\n",
              "      <td>0.532761</td>\n",
              "      <td>6.307172</td>\n",
              "    </tr>\n",
              "    <tr>\n",
              "      <th>max</th>\n",
              "      <td>99999.000000</td>\n",
              "      <td>21.780008</td>\n",
              "    </tr>\n",
              "  </tbody>\n",
              "</table>\n",
              "</div>"
            ],
            "text/plain": [
              "                  0           1\n",
              "count    100.000000  100.000000\n",
              "mean     999.861364   -0.152903\n",
              "std     9999.913043    9.088353\n",
              "min       -2.902767  -20.321135\n",
              "25%       -0.732114   -6.005390\n",
              "50%       -0.032199   -0.174413\n",
              "75%        0.532761    6.307172\n",
              "max    99999.000000   21.780008"
            ]
          },
          "metadata": {
            "tags": []
          },
          "execution_count": 8
        }
      ]
    },
    {
      "cell_type": "markdown",
      "metadata": {
        "id": "9wywym4dm1k7"
      },
      "source": [
        "Крайне забавный датасет"
      ]
    },
    {
      "cell_type": "markdown",
      "metadata": {
        "id": "A8Hs5XdwqKkc"
      },
      "source": [
        "# Задание\n",
        "## Вопрос 1\n",
        "Существует ли линейная взаимосвязь между столбцами выборки по t-критерию Стьюдента?"
      ]
    },
    {
      "cell_type": "code",
      "metadata": {
        "colab": {
          "base_uri": "https://localhost:8080/",
          "height": 392
        },
        "id": "9Pahuu-omCEB",
        "outputId": "8a575803-9c59-4dcb-f7c3-146fd63231ab"
      },
      "source": [
        "sns.pairplot(data)"
      ],
      "execution_count": 19,
      "outputs": [
        {
          "output_type": "execute_result",
          "data": {
            "text/plain": [
              "<seaborn.axisgrid.PairGrid at 0x7f6ab0109e90>"
            ]
          },
          "metadata": {
            "tags": []
          },
          "execution_count": 19
        },
        {
          "output_type": "display_data",
          "data": {
            "image/png": "[encoded data removed]",
            "text/plain": [
              "<Figure size 360x360 with 6 Axes>"
            ]
          },
          "metadata": {
            "tags": [],
            "needs_background": "light"
          }
        }
      ]
    },
    {
      "cell_type": "code",
      "metadata": {
        "colab": {
          "base_uri": "https://localhost:8080/"
        },
        "id": "SlaNWeQLmlGB",
        "outputId": "01dc3e5d-f5ae-482c-83d9-0f62336d9e2f"
      },
      "source": [
        "r, pvalue = st.pearsonr(data[0], data[1])\n",
        "print(f'R = {r:0.3}; p-value = {pvalue:0.3}')"
      ],
      "execution_count": 24,
      "outputs": [
        {
          "output_type": "stream",
          "text": [
            "R value = 0.0742; p-value = 0.463\n"
          ],
          "name": "stdout"
        }
      ]
    },
    {
      "cell_type": "markdown",
      "metadata": {
        "id": "-EOWFj-Tq61D"
      },
      "source": [
        "Не существует, судя по p-value и графичкам."
      ]
    },
    {
      "cell_type": "markdown",
      "metadata": {
        "id": "KaaS3-Qxsl7P"
      },
      "source": [
        "## Вопрос 2\n",
        "Существует ли линейная взаимосвязь между столбцами выборки по t-критерию Стьюдента, если исключить выбросы из выборки?"
      ]
    },
    {
      "cell_type": "markdown",
      "metadata": {
        "id": "sS-FCkwhsrFS"
      },
      "source": [
        "Дропнем выбросы"
      ]
    },
    {
      "cell_type": "code",
      "metadata": {
        "colab": {
          "base_uri": "https://localhost:8080/",
          "height": 300
        },
        "id": "IleZmHPoqlfN",
        "outputId": "788009eb-c9fc-4a96-df5e-5709a5156177"
      },
      "source": [
        "data_dropped = data[(np.abs(st.zscore(data)) < 3).all(axis=1)]\n",
        "data_dropped.describe()"
      ],
      "execution_count": 26,
      "outputs": [
        {
          "output_type": "execute_result",
          "data": {
            "text/html": [
              "<div>\n",
              "<style scoped>\n",
              "    .dataframe tbody tr th:only-of-type {\n",
              "        vertical-align: middle;\n",
              "    }\n",
              "\n",
              "    .dataframe tbody tr th {\n",
              "        vertical-align: top;\n",
              "    }\n",
              "\n",
              "    .dataframe thead th {\n",
              "        text-align: right;\n",
              "    }\n",
              "</style>\n",
              "<table border=\"1\" class=\"dataframe\">\n",
              "  <thead>\n",
              "    <tr style=\"text-align: right;\">\n",
              "      <th></th>\n",
              "      <th>0</th>\n",
              "      <th>1</th>\n",
              "    </tr>\n",
              "  </thead>\n",
              "  <tbody>\n",
              "    <tr>\n",
              "      <th>count</th>\n",
              "      <td>99.000000</td>\n",
              "      <td>99.000000</td>\n",
              "    </tr>\n",
              "    <tr>\n",
              "      <th>mean</th>\n",
              "      <td>-0.129935</td>\n",
              "      <td>-0.220345</td>\n",
              "    </tr>\n",
              "    <tr>\n",
              "      <th>std</th>\n",
              "      <td>1.000769</td>\n",
              "      <td>9.109420</td>\n",
              "    </tr>\n",
              "    <tr>\n",
              "      <th>min</th>\n",
              "      <td>-2.902767</td>\n",
              "      <td>-20.321135</td>\n",
              "    </tr>\n",
              "    <tr>\n",
              "      <th>25%</th>\n",
              "      <td>-0.734169</td>\n",
              "      <td>-6.027386</td>\n",
              "    </tr>\n",
              "    <tr>\n",
              "      <th>50%</th>\n",
              "      <td>-0.035873</td>\n",
              "      <td>-0.268475</td>\n",
              "    </tr>\n",
              "    <tr>\n",
              "      <th>75%</th>\n",
              "      <td>0.524302</td>\n",
              "      <td>6.067021</td>\n",
              "    </tr>\n",
              "    <tr>\n",
              "      <th>max</th>\n",
              "      <td>2.025549</td>\n",
              "      <td>21.780008</td>\n",
              "    </tr>\n",
              "  </tbody>\n",
              "</table>\n",
              "</div>"
            ],
            "text/plain": [
              "               0          1\n",
              "count  99.000000  99.000000\n",
              "mean   -0.129935  -0.220345\n",
              "std     1.000769   9.109420\n",
              "min    -2.902767 -20.321135\n",
              "25%    -0.734169  -6.027386\n",
              "50%    -0.035873  -0.268475\n",
              "75%     0.524302   6.067021\n",
              "max     2.025549  21.780008"
            ]
          },
          "metadata": {
            "tags": []
          },
          "execution_count": 26
        }
      ]
    },
    {
      "cell_type": "markdown",
      "metadata": {
        "id": "NDLaX4E9stUw"
      },
      "source": [
        "Посмотрим на то, что вышло"
      ]
    },
    {
      "cell_type": "code",
      "metadata": {
        "colab": {
          "base_uri": "https://localhost:8080/",
          "height": 392
        },
        "id": "PaQ-IUk3rUIB",
        "outputId": "d5e380af-3d56-4b0f-8bc8-7cf27bd0d07c"
      },
      "source": [
        "sns.pairplot(data_dropped)"
      ],
      "execution_count": 29,
      "outputs": [
        {
          "output_type": "execute_result",
          "data": {
            "text/plain": [
              "<seaborn.axisgrid.PairGrid at 0x7f699d7ac2d0>"
            ]
          },
          "metadata": {
            "tags": []
          },
          "execution_count": 29
        },
        {
          "output_type": "display_data",
          "data": {
            "image/png": "[encoded data removed]",
            "text/plain": [
              "<Figure size 360x360 with 6 Axes>"
            ]
          },
          "metadata": {
            "tags": [],
            "needs_background": "light"
          }
        }
      ]
    },
    {
      "cell_type": "code",
      "metadata": {
        "colab": {
          "base_uri": "https://localhost:8080/"
        },
        "id": "iiVXmO5LrRb-",
        "outputId": "3302b53e-29e7-4aca-f94d-2436ebd64de0"
      },
      "source": [
        "r, pvalue = st.pearsonr(data_dropped[0], data_dropped[1])\n",
        "print(f'R = {r:0.3}; p-value = {pvalue:0.3}')"
      ],
      "execution_count": 27,
      "outputs": [
        {
          "output_type": "stream",
          "text": [
            "R value = 0.0326; p-value = 0.749\n"
          ],
          "name": "stdout"
        }
      ]
    },
    {
      "cell_type": "markdown",
      "metadata": {
        "id": "zWTIoMpVsxWy"
      },
      "source": [
        "Судя по коэффициентам и графичкам, связи не существует."
      ]
    },
    {
      "cell_type": "markdown",
      "metadata": {
        "id": "RFh31Dwhs5Sr"
      },
      "source": [
        "## Вопрос 3\n",
        "Коэффициент корреляции Кендалла по исходной выборке (без удаления выбросов)"
      ]
    },
    {
      "cell_type": "code",
      "metadata": {
        "colab": {
          "base_uri": "https://localhost:8080/"
        },
        "id": "3CghhRBArYfK",
        "outputId": "c8087bf3-bd0f-4cc5-d10a-25288c9572b4"
      },
      "source": [
        "corr, pvalue = st.kendalltau(data[0], data[1])\n",
        "print(f'Corr = {corr:.3}; p-value = {pvalue:.3}')"
      ],
      "execution_count": 35,
      "outputs": [
        {
          "output_type": "stream",
          "text": [
            "Corr = 0.0396; p-value = 0.559\n"
          ],
          "name": "stdout"
        }
      ]
    },
    {
      "cell_type": "code",
      "metadata": {
        "id": "j95FEN3ZtDfD"
      },
      "source": [
        ""
      ],
      "execution_count": null,
      "outputs": []
    }
  ]
}